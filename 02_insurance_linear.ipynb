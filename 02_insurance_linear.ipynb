{
  "nbformat": 4,
  "nbformat_minor": 0,
  "metadata": {
    "colab": {
      "name": "02-insurance-linear.ipynb",
      "provenance": [],
      "collapsed_sections": [],
      "include_colab_link": true
    },
    "kernelspec": {
      "display_name": "Python 3",
      "language": "python",
      "name": "python3"
    },
    "language_info": {
      "codemirror_mode": {
        "name": "ipython",
        "version": 3
      },
      "file_extension": ".py",
      "mimetype": "text/x-python",
      "name": "python",
      "nbconvert_exporter": "python",
      "pygments_lexer": "ipython3",
      "version": "3.8.5"
    }
  },
  "cells": [
    {
      "cell_type": "markdown",
      "metadata": {
        "id": "view-in-github",
        "colab_type": "text"
      },
      "source": [
        "<a href=\"https://colab.research.google.com/github/Rahulgarg95/pytorch_jovian/blob/main/02_insurance_linear.ipynb\" target=\"_parent\"><img src=\"https://colab.research.google.com/assets/colab-badge.svg\" alt=\"Open In Colab\"/></a>"
      ]
    },
    {
      "cell_type": "code",
      "metadata": {
        "id": "Ka0r0eJhUAJC"
      },
      "source": [
        "# Jovian Commit Essentials\n",
        "# Please retain and execute this cell without modifying the contents for `jovian.commit` to work\n",
        "!pip install jovian --upgrade -q\n",
        "import jovian\n",
        "jovian.utils.colab.set_colab_file_id('1MY0TfaPQTk7nykEmcytWFgCiA1DtiF43')"
      ],
      "execution_count": null,
      "outputs": []
    },
    {
      "cell_type": "markdown",
      "metadata": {
        "_cell_guid": "b1076dfc-b9ad-4769-8c92-a6c4dae69d19",
        "_uuid": "8f2839f25d086af736a60e9eeb907d3b93b6e0e5",
        "id": "pFRCfbyv1iQ_"
      },
      "source": [
        "# Insurance cost prediction using linear regression\n",
        "\n",
        "Make a submisson here: https://jovian.ai/learn/deep-learning-with-pytorch-zero-to-gans/assignment/assignment-2-train-your-first-model\n",
        "\n",
        "In this assignment we're going to use information like a person's age, sex, BMI, no. of children and smoking habit to predict the price of yearly medical bills. This kind of model is useful for insurance companies to determine the yearly insurance premium for a person. The dataset for this problem is taken from [Kaggle](https://www.kaggle.com/mirichoi0218/insurance).\n",
        "\n",
        "\n",
        "We will create a model with the following steps:\n",
        "1. Download and explore the dataset\n",
        "2. Prepare the dataset for training\n",
        "3. Create a linear regression model\n",
        "4. Train the model to fit the data\n",
        "5. Make predictions using the trained model\n",
        "\n",
        "\n",
        "This assignment builds upon the concepts from the first 2 lessons. It will help to review these Jupyter notebooks:\n",
        "- PyTorch basics: https://jovian.ai/aakashns/01-pytorch-basics\n",
        "- Linear Regression: https://jovian.ai/aakashns/02-linear-regression\n",
        "- Logistic Regression: https://jovian.ai/aakashns/03-logistic-regression\n",
        "- Linear regression (minimal): https://jovian.ai/aakashns/housing-linear-minimal\n",
        "- Logistic regression (minimal): https://jovian.ai/aakashns/mnist-logistic-minimal\n",
        "\n",
        "As you go through this notebook, you will find a **???** in certain places. Your job is to replace the **???** with appropriate code or values, to ensure that the notebook runs properly end-to-end . In some cases, you'll be required to choose some hyperparameters (learning rate, batch size etc.). Try to experiment with the hypeparameters to get the lowest loss.\n"
      ]
    },
    {
      "cell_type": "code",
      "metadata": {
        "id": "iq4FotBb1iRB"
      },
      "source": [
        "# Uncomment and run the appropriate command for your operating system, if required\n",
        "\n",
        "# Linux / Binder\n",
        "# !pip install numpy matplotlib pandas torch==1.7.0+cpu torchvision==0.8.1+cpu torchaudio==0.7.0 -f https://download.pytorch.org/whl/torch_stable.html\n",
        "\n",
        "# Windows\n",
        "# !pip install numpy matplotlib pandas torch==1.7.0+cpu torchvision==0.8.1+cpu torchaudio==0.7.0 -f https://download.pytorch.org/whl/torch_stable.html\n",
        "\n",
        "# MacOS\n",
        "# !pip install numpy matplotlib pandas torch torchvision torchaudio"
      ],
      "execution_count": null,
      "outputs": []
    },
    {
      "cell_type": "code",
      "metadata": {
        "id": "b1i8VLaO1iRC"
      },
      "source": [
        "import torch\n",
        "import jovian\n",
        "import torchvision\n",
        "import torch.nn as nn\n",
        "import pandas as pd\n",
        "import matplotlib.pyplot as plt\n",
        "import torch.nn.functional as F\n",
        "from torchvision.datasets.utils import download_url\n",
        "from torch.utils.data import DataLoader, TensorDataset, random_split"
      ],
      "execution_count": null,
      "outputs": []
    },
    {
      "cell_type": "code",
      "metadata": {
        "id": "hn6TLTq11iRD"
      },
      "source": [
        "project_name='02-insurance-linear-regression' # will be used by jovian.commit"
      ],
      "execution_count": null,
      "outputs": []
    },
    {
      "cell_type": "markdown",
      "metadata": {
        "id": "rDOu6P2n1iRD"
      },
      "source": [
        "## Step 1: Download and explore the data\n",
        "\n",
        "Let us begin by downloading the data. We'll use the `download_url` function from PyTorch to get the data as a CSV (comma-separated values) file. "
      ]
    },
    {
      "cell_type": "code",
      "metadata": {
        "_cell_guid": "79c7e3d0-c299-4dcb-8224-4455121ee9b0",
        "_uuid": "d629ff2d2480ee46fbb7e2d37f6b5fab8052498a",
        "colab": {
          "base_uri": "https://localhost:8080/"
        },
        "id": "nsZl8sNg1iRE",
        "outputId": "dc3052f4-13c3-45fe-ff76-dabb53ee7abc"
      },
      "source": [
        "DATASET_URL = \"https://hub.jovian.ml/wp-content/uploads/2020/05/insurance.csv\"\n",
        "DATA_FILENAME = \"insurance.csv\"\n",
        "download_url(DATASET_URL, '.')"
      ],
      "execution_count": null,
      "outputs": [
        {
          "output_type": "stream",
          "text": [
            "Using downloaded and verified file: ./insurance.csv\n"
          ],
          "name": "stdout"
        }
      ]
    },
    {
      "cell_type": "markdown",
      "metadata": {
        "id": "9mKAn0OH1iRH"
      },
      "source": [
        "To load the dataset into memory, we'll use the `read_csv` function from the `pandas` library. The data will be loaded as a Pandas dataframe. See this short tutorial to learn more: https://data36.com/pandas-tutorial-1-basics-reading-data-files-dataframes-data-selection/"
      ]
    },
    {
      "cell_type": "code",
      "metadata": {
        "colab": {
          "base_uri": "https://localhost:8080/",
          "height": 202
        },
        "id": "Ws9ysMEp1iRH",
        "outputId": "e6bf79b3-0aec-4c55-d548-c474364b438c"
      },
      "source": [
        "dataframe_raw = pd.read_csv(DATA_FILENAME)\n",
        "dataframe_raw.head()"
      ],
      "execution_count": null,
      "outputs": [
        {
          "output_type": "execute_result",
          "data": {
            "text/html": [
              "<div>\n",
              "<style scoped>\n",
              "    .dataframe tbody tr th:only-of-type {\n",
              "        vertical-align: middle;\n",
              "    }\n",
              "\n",
              "    .dataframe tbody tr th {\n",
              "        vertical-align: top;\n",
              "    }\n",
              "\n",
              "    .dataframe thead th {\n",
              "        text-align: right;\n",
              "    }\n",
              "</style>\n",
              "<table border=\"1\" class=\"dataframe\">\n",
              "  <thead>\n",
              "    <tr style=\"text-align: right;\">\n",
              "      <th></th>\n",
              "      <th>age</th>\n",
              "      <th>sex</th>\n",
              "      <th>bmi</th>\n",
              "      <th>children</th>\n",
              "      <th>smoker</th>\n",
              "      <th>region</th>\n",
              "      <th>charges</th>\n",
              "    </tr>\n",
              "  </thead>\n",
              "  <tbody>\n",
              "    <tr>\n",
              "      <th>0</th>\n",
              "      <td>19</td>\n",
              "      <td>female</td>\n",
              "      <td>27.900</td>\n",
              "      <td>0</td>\n",
              "      <td>yes</td>\n",
              "      <td>southwest</td>\n",
              "      <td>16884.92400</td>\n",
              "    </tr>\n",
              "    <tr>\n",
              "      <th>1</th>\n",
              "      <td>18</td>\n",
              "      <td>male</td>\n",
              "      <td>33.770</td>\n",
              "      <td>1</td>\n",
              "      <td>no</td>\n",
              "      <td>southeast</td>\n",
              "      <td>1725.55230</td>\n",
              "    </tr>\n",
              "    <tr>\n",
              "      <th>2</th>\n",
              "      <td>28</td>\n",
              "      <td>male</td>\n",
              "      <td>33.000</td>\n",
              "      <td>3</td>\n",
              "      <td>no</td>\n",
              "      <td>southeast</td>\n",
              "      <td>4449.46200</td>\n",
              "    </tr>\n",
              "    <tr>\n",
              "      <th>3</th>\n",
              "      <td>33</td>\n",
              "      <td>male</td>\n",
              "      <td>22.705</td>\n",
              "      <td>0</td>\n",
              "      <td>no</td>\n",
              "      <td>northwest</td>\n",
              "      <td>21984.47061</td>\n",
              "    </tr>\n",
              "    <tr>\n",
              "      <th>4</th>\n",
              "      <td>32</td>\n",
              "      <td>male</td>\n",
              "      <td>28.880</td>\n",
              "      <td>0</td>\n",
              "      <td>no</td>\n",
              "      <td>northwest</td>\n",
              "      <td>3866.85520</td>\n",
              "    </tr>\n",
              "  </tbody>\n",
              "</table>\n",
              "</div>"
            ],
            "text/plain": [
              "   age     sex     bmi  children smoker     region      charges\n",
              "0   19  female  27.900         0    yes  southwest  16884.92400\n",
              "1   18    male  33.770         1     no  southeast   1725.55230\n",
              "2   28    male  33.000         3     no  southeast   4449.46200\n",
              "3   33    male  22.705         0     no  northwest  21984.47061\n",
              "4   32    male  28.880         0     no  northwest   3866.85520"
            ]
          },
          "metadata": {
            "tags": []
          },
          "execution_count": 153
        }
      ]
    },
    {
      "cell_type": "markdown",
      "metadata": {
        "id": "8Lp2nU0g1iRI"
      },
      "source": [
        "We're going to do a slight customization of the data, so that you every participant receives a slightly different version of the dataset. Fill in your name below as a string (enter at least 5 characters)"
      ]
    },
    {
      "cell_type": "code",
      "metadata": {
        "id": "ocp_PvaW1iRJ"
      },
      "source": [
        "your_name = 'Rahul' # at least 5 characters"
      ],
      "execution_count": null,
      "outputs": []
    },
    {
      "cell_type": "markdown",
      "metadata": {
        "id": "xntDnhEO1iRK"
      },
      "source": [
        "The `customize_dataset` function will customize the dataset slightly using your name as a source of random numbers."
      ]
    },
    {
      "cell_type": "code",
      "metadata": {
        "id": "JITd3QUQ1iRK"
      },
      "source": [
        "def customize_dataset(dataframe_raw, rand_str):\n",
        "    dataframe = dataframe_raw.copy(deep=True)\n",
        "    # drop some rows\n",
        "    dataframe = dataframe.sample(int(0.95*len(dataframe)), random_state=int(ord(rand_str[0])))\n",
        "    # scale input\n",
        "    dataframe.bmi = dataframe.bmi * ord(rand_str[1])/100.\n",
        "    # scale target\n",
        "    dataframe.charges = dataframe.charges * ord(rand_str[2])/100.\n",
        "    # drop column\n",
        "    if ord(rand_str[3]) % 2 == 1:\n",
        "        dataframe = dataframe.drop(['region'], axis=1)\n",
        "    return dataframe"
      ],
      "execution_count": null,
      "outputs": []
    },
    {
      "cell_type": "code",
      "metadata": {
        "colab": {
          "base_uri": "https://localhost:8080/",
          "height": 202
        },
        "id": "wH_EkqDg1iRL",
        "outputId": "27259d63-5ddf-4767-f26f-e5601743197a"
      },
      "source": [
        "dataframe = customize_dataset(dataframe_raw, your_name)\n",
        "dataframe.head()"
      ],
      "execution_count": null,
      "outputs": [
        {
          "output_type": "execute_result",
          "data": {
            "text/html": [
              "<div>\n",
              "<style scoped>\n",
              "    .dataframe tbody tr th:only-of-type {\n",
              "        vertical-align: middle;\n",
              "    }\n",
              "\n",
              "    .dataframe tbody tr th {\n",
              "        vertical-align: top;\n",
              "    }\n",
              "\n",
              "    .dataframe thead th {\n",
              "        text-align: right;\n",
              "    }\n",
              "</style>\n",
              "<table border=\"1\" class=\"dataframe\">\n",
              "  <thead>\n",
              "    <tr style=\"text-align: right;\">\n",
              "      <th></th>\n",
              "      <th>age</th>\n",
              "      <th>sex</th>\n",
              "      <th>bmi</th>\n",
              "      <th>children</th>\n",
              "      <th>smoker</th>\n",
              "      <th>charges</th>\n",
              "    </tr>\n",
              "  </thead>\n",
              "  <tbody>\n",
              "    <tr>\n",
              "      <th>457</th>\n",
              "      <td>57</td>\n",
              "      <td>female</td>\n",
              "      <td>29.58015</td>\n",
              "      <td>0</td>\n",
              "      <td>no</td>\n",
              "      <td>12314.406052</td>\n",
              "    </tr>\n",
              "    <tr>\n",
              "      <th>1050</th>\n",
              "      <td>44</td>\n",
              "      <td>female</td>\n",
              "      <td>35.84635</td>\n",
              "      <td>1</td>\n",
              "      <td>no</td>\n",
              "      <td>8344.060868</td>\n",
              "    </tr>\n",
              "    <tr>\n",
              "      <th>56</th>\n",
              "      <td>58</td>\n",
              "      <td>female</td>\n",
              "      <td>30.87025</td>\n",
              "      <td>2</td>\n",
              "      <td>no</td>\n",
              "      <td>14151.663500</td>\n",
              "    </tr>\n",
              "    <tr>\n",
              "      <th>311</th>\n",
              "      <td>19</td>\n",
              "      <td>female</td>\n",
              "      <td>23.95900</td>\n",
              "      <td>0</td>\n",
              "      <td>no</td>\n",
              "      <td>1806.871040</td>\n",
              "    </tr>\n",
              "    <tr>\n",
              "      <th>1288</th>\n",
              "      <td>20</td>\n",
              "      <td>male</td>\n",
              "      <td>38.21800</td>\n",
              "      <td>2</td>\n",
              "      <td>yes</td>\n",
              "      <td>39878.348640</td>\n",
              "    </tr>\n",
              "  </tbody>\n",
              "</table>\n",
              "</div>"
            ],
            "text/plain": [
              "      age     sex       bmi  children smoker       charges\n",
              "457    57  female  29.58015         0     no  12314.406052\n",
              "1050   44  female  35.84635         1     no   8344.060868\n",
              "56     58  female  30.87025         2     no  14151.663500\n",
              "311    19  female  23.95900         0     no   1806.871040\n",
              "1288   20    male  38.21800         2    yes  39878.348640"
            ]
          },
          "metadata": {
            "tags": []
          },
          "execution_count": 156
        }
      ]
    },
    {
      "cell_type": "markdown",
      "metadata": {
        "id": "J2uiMoQN1iRL"
      },
      "source": [
        "Let us answer some basic questions about the dataset. \n",
        "\n",
        "\n",
        "**Q: How many rows does the dataset have?**"
      ]
    },
    {
      "cell_type": "code",
      "metadata": {
        "colab": {
          "base_uri": "https://localhost:8080/"
        },
        "id": "ywJ18ofl1iRM",
        "outputId": "b156a460-bc79-4170-dcea-652dcd946651"
      },
      "source": [
        "num_rows = dataframe.shape[0]\n",
        "print(num_rows)"
      ],
      "execution_count": null,
      "outputs": [
        {
          "output_type": "stream",
          "text": [
            "1271\n"
          ],
          "name": "stdout"
        }
      ]
    },
    {
      "cell_type": "markdown",
      "metadata": {
        "id": "IvxWFaLD1iRM"
      },
      "source": [
        "**Q: How many columns doe the dataset have**"
      ]
    },
    {
      "cell_type": "code",
      "metadata": {
        "colab": {
          "base_uri": "https://localhost:8080/"
        },
        "id": "tpoeom3p1iRN",
        "outputId": "81675651-b61a-4544-afc3-107b9d647d6d"
      },
      "source": [
        "num_cols = dataframe.shape[1]\n",
        "print(num_cols)"
      ],
      "execution_count": null,
      "outputs": [
        {
          "output_type": "stream",
          "text": [
            "6\n"
          ],
          "name": "stdout"
        }
      ]
    },
    {
      "cell_type": "markdown",
      "metadata": {
        "id": "yD8Sw4mD1iRN"
      },
      "source": [
        "**Q: What are the column titles of the input variables?**"
      ]
    },
    {
      "cell_type": "code",
      "metadata": {
        "id": "QAon-czO1iRO"
      },
      "source": [
        "input_cols = dataframe.columns.to_list()"
      ],
      "execution_count": null,
      "outputs": []
    },
    {
      "cell_type": "code",
      "metadata": {
        "id": "fEL2HgBa3HaY"
      },
      "source": [
        "input_cols.remove('charges')"
      ],
      "execution_count": null,
      "outputs": []
    },
    {
      "cell_type": "code",
      "metadata": {
        "colab": {
          "base_uri": "https://localhost:8080/"
        },
        "id": "58xvrFW0_qzb",
        "outputId": "9d1b6800-dc99-4d48-ae92-36cbb2fb1f7b"
      },
      "source": [
        "input_cols"
      ],
      "execution_count": null,
      "outputs": [
        {
          "output_type": "execute_result",
          "data": {
            "text/plain": [
              "['age', 'sex', 'bmi', 'children', 'smoker']"
            ]
          },
          "metadata": {
            "tags": []
          },
          "execution_count": 161
        }
      ]
    },
    {
      "cell_type": "code",
      "metadata": {
        "colab": {
          "base_uri": "https://localhost:8080/"
        },
        "id": "Fm86ILCG5KWJ",
        "outputId": "82dd43a0-354b-4a4b-b41a-f38ef613f5ed"
      },
      "source": [
        "dataframe.dtypes"
      ],
      "execution_count": null,
      "outputs": [
        {
          "output_type": "execute_result",
          "data": {
            "text/plain": [
              "age           int64\n",
              "sex          object\n",
              "bmi         float64\n",
              "children      int64\n",
              "smoker       object\n",
              "charges     float64\n",
              "dtype: object"
            ]
          },
          "metadata": {
            "tags": []
          },
          "execution_count": 162
        }
      ]
    },
    {
      "cell_type": "markdown",
      "metadata": {
        "id": "uhwishwd1iRO"
      },
      "source": [
        "**Q: Which of the input columns are non-numeric or categorial variables ?**\n",
        "\n",
        "Hint: `sex` is one of them. List the columns that are not numbers."
      ]
    },
    {
      "cell_type": "code",
      "metadata": {
        "id": "fEfPw9bx1iRP"
      },
      "source": [
        "categorical_cols = ['smoker','sex']"
      ],
      "execution_count": null,
      "outputs": []
    },
    {
      "cell_type": "markdown",
      "metadata": {
        "id": "W_kQeoQV1iRP"
      },
      "source": [
        "**Q: What are the column titles of output/target variable(s)?**"
      ]
    },
    {
      "cell_type": "code",
      "metadata": {
        "id": "Kw7DOOuz1iRQ"
      },
      "source": [
        "output_cols = ['charges']"
      ],
      "execution_count": null,
      "outputs": []
    },
    {
      "cell_type": "markdown",
      "metadata": {
        "id": "dXsWrZ6I1iRQ"
      },
      "source": [
        "**Q: (Optional) What is the minimum, maximum and average value of the `charges` column? Can you show the distribution of values in a graph?**\n",
        "Use this data visualization cheatsheet for referece: https://jovian.ml/aakashns/dataviz-cheatsheet"
      ]
    },
    {
      "cell_type": "code",
      "metadata": {
        "colab": {
          "base_uri": "https://localhost:8080/",
          "height": 335
        },
        "id": "AI0Wwl_p1iRR",
        "outputId": "fd3984e5-893e-4fb4-8cf1-c47118a01fd4"
      },
      "source": [
        "# Write your answer here\r\n",
        "print('Min Charges: ',dataframe['charges'].min())\r\n",
        "print('Max Charges: ',dataframe['charges'].max())\r\n",
        "print('Mean Charges: ',dataframe['charges'].mean())\r\n",
        "dataframe.boxplot('charges')"
      ],
      "execution_count": null,
      "outputs": [
        {
          "output_type": "stream",
          "text": [
            "Min Charges:  1166.7488560000002\n",
            "Max Charges:  66321.2451304\n",
            "Mean Charges:  13645.824006566623\n"
          ],
          "name": "stdout"
        },
        {
          "output_type": "execute_result",
          "data": {
            "text/plain": [
              "<matplotlib.axes._subplots.AxesSubplot at 0x7f5a485d5438>"
            ]
          },
          "metadata": {
            "tags": []
          },
          "execution_count": 165
        },
        {
          "output_type": "display_data",
          "data": {
            "image/png": "[encoded data removed]",
            "text/plain": [
              "<Figure size 432x288 with 1 Axes>"
            ]
          },
          "metadata": {
            "tags": [],
            "needs_background": "light"
          }
        }
      ]
    },
    {
      "cell_type": "markdown",
      "metadata": {
        "id": "vYFbjU4i1iRR"
      },
      "source": [
        "Remember to commit your notebook to Jovian after every step, so that you don't lose your work."
      ]
    },
    {
      "cell_type": "code",
      "metadata": {
        "id": "CwkyWcYr1iRS"
      },
      "source": [
        "!pip install jovian --upgrade -q"
      ],
      "execution_count": null,
      "outputs": []
    },
    {
      "cell_type": "code",
      "metadata": {
        "id": "5gB2ToIz1iRS"
      },
      "source": [
        "import jovian"
      ],
      "execution_count": null,
      "outputs": []
    },
    {
      "cell_type": "code",
      "metadata": {
        "colab": {
          "base_uri": "https://localhost:8080/",
          "height": 122
        },
        "id": "v2bLy-091iRT",
        "outputId": "fceb7c69-b59d-494b-e893-c8c187bdc211"
      },
      "source": [
        "jovian.commit(project=project_name)"
      ],
      "execution_count": null,
      "outputs": [
        {
          "output_type": "stream",
          "text": [
            "[jovian] Detected Colab notebook...\u001b[0m\n",
            "[jovian] Uploading colab notebook to Jovian...\u001b[0m\n",
            "[jovian] Capturing environment..\u001b[0m\n",
            "[jovian] Attaching records (metrics, hyperparameters, dataset etc.)\u001b[0m\n",
            "[jovian] Committed successfully! https://jovian.ai/rahulgarg95/02-insurance-linear-regression\u001b[0m\n"
          ],
          "name": "stdout"
        },
        {
          "output_type": "execute_result",
          "data": {
            "application/vnd.google.colaboratory.intrinsic+json": {
              "type": "string"
            },
            "text/plain": [
              "'https://jovian.ai/rahulgarg95/02-insurance-linear-regression'"
            ]
          },
          "metadata": {
            "tags": []
          },
          "execution_count": 168
        }
      ]
    },
    {
      "cell_type": "markdown",
      "metadata": {
        "id": "42pbUZ7s1iRU"
      },
      "source": [
        "## Step 2: Prepare the dataset for training\n",
        "\n",
        "We need to convert the data from the Pandas dataframe into a PyTorch tensors for training. To do this, the first step is to convert it numpy arrays. If you've filled out `input_cols`, `categorial_cols` and `output_cols` correctly, this following function will perform the conversion to numpy arrays."
      ]
    },
    {
      "cell_type": "code",
      "metadata": {
        "id": "Q5oYv4vh1iRU"
      },
      "source": [
        "def dataframe_to_arrays(dataframe):\n",
        "    # Make a copy of the original dataframe\n",
        "    dataframe1 = dataframe.copy(deep=True)\n",
        "    # Convert non-numeric categorical columns to numbers\n",
        "    for col in categorical_cols:\n",
        "        dataframe1[col] = dataframe1[col].astype('category').cat.codes\n",
        "    # Extract input & outupts as numpy arrays\n",
        "    inputs_array = dataframe1[input_cols].to_numpy()\n",
        "    targets_array = dataframe1[output_cols].to_numpy()\n",
        "    return inputs_array, targets_array"
      ],
      "execution_count": null,
      "outputs": []
    },
    {
      "cell_type": "markdown",
      "metadata": {
        "id": "fjW1BgUB1iRW"
      },
      "source": [
        "Read through the [Pandas documentation](https://pandas.pydata.org/pandas-docs/stable/user_guide/categorical.html) to understand how we're converting categorical variables into numbers."
      ]
    },
    {
      "cell_type": "code",
      "metadata": {
        "colab": {
          "base_uri": "https://localhost:8080/"
        },
        "id": "mfjipVae1iRW",
        "outputId": "ad9289de-d27a-4245-fb57-84efd91c9038"
      },
      "source": [
        "inputs_array, targets_array = dataframe_to_arrays(dataframe)\n",
        "inputs_array, targets_array"
      ],
      "execution_count": null,
      "outputs": [
        {
          "output_type": "execute_result",
          "data": {
            "text/plain": [
              "(array([[57.     ,  0.     , 29.58015,  0.     ,  0.     ],\n",
              "        [44.     ,  0.     , 35.84635,  1.     ,  0.     ],\n",
              "        [58.     ,  0.     , 30.87025,  2.     ,  0.     ],\n",
              "        ...,\n",
              "        [59.     ,  0.     , 33.756  ,  2.     ,  0.     ],\n",
              "        [41.     ,  1.     , 27.936  ,  1.     ,  0.     ],\n",
              "        [36.     ,  0.     , 29.1194 ,  0.     ,  0.     ]]),\n",
              " array([[12314.406052 ],\n",
              "        [ 8344.060868 ],\n",
              "        [14151.6635   ],\n",
              "        ...,\n",
              "        [38387.0323512],\n",
              "        [ 6533.5244   ],\n",
              "        [ 5483.062832 ]]))"
            ]
          },
          "metadata": {
            "tags": []
          },
          "execution_count": 170
        }
      ]
    },
    {
      "cell_type": "markdown",
      "metadata": {
        "id": "NFcIZUPz1iRX"
      },
      "source": [
        "**Q: Convert the numpy arrays `inputs_array` and `targets_array` into PyTorch tensors. Make sure that the data type is `torch.float32`.**"
      ]
    },
    {
      "cell_type": "code",
      "metadata": {
        "id": "u074Zt9c1iRX"
      },
      "source": [
        "inputs = torch.from_numpy(inputs_array.astype('float32'))\n",
        "targets = torch.from_numpy(targets_array.astype('float32'))"
      ],
      "execution_count": null,
      "outputs": []
    },
    {
      "cell_type": "code",
      "metadata": {
        "colab": {
          "base_uri": "https://localhost:8080/"
        },
        "id": "x9Ly4l5V1iRY",
        "outputId": "ded3933c-98c9-4897-c93a-0d21cd1ccbc1"
      },
      "source": [
        "inputs.dtype, targets.dtype"
      ],
      "execution_count": null,
      "outputs": [
        {
          "output_type": "execute_result",
          "data": {
            "text/plain": [
              "(torch.float32, torch.float32)"
            ]
          },
          "metadata": {
            "tags": []
          },
          "execution_count": 172
        }
      ]
    },
    {
      "cell_type": "markdown",
      "metadata": {
        "id": "hc4l1mtN1iRY"
      },
      "source": [
        "Next, we need to create PyTorch datasets & data loaders for training & validation. We'll start by creating a `TensorDataset`."
      ]
    },
    {
      "cell_type": "code",
      "metadata": {
        "id": "vTePygaE1iRZ"
      },
      "source": [
        "dataset = TensorDataset(inputs, targets)"
      ],
      "execution_count": null,
      "outputs": []
    },
    {
      "cell_type": "code",
      "metadata": {
        "colab": {
          "base_uri": "https://localhost:8080/"
        },
        "id": "lO18Ql7K-CDo",
        "outputId": "8f5a074f-7c45-4434-b91b-85c27e605047"
      },
      "source": [
        "dataset[:]"
      ],
      "execution_count": null,
      "outputs": [
        {
          "output_type": "execute_result",
          "data": {
            "text/plain": [
              "(tensor([[57.0000,  0.0000, 29.5802,  0.0000,  0.0000],\n",
              "         [44.0000,  0.0000, 35.8464,  1.0000,  0.0000],\n",
              "         [58.0000,  0.0000, 30.8703,  2.0000,  0.0000],\n",
              "         ...,\n",
              "         [59.0000,  0.0000, 33.7560,  2.0000,  0.0000],\n",
              "         [41.0000,  1.0000, 27.9360,  1.0000,  0.0000],\n",
              "         [36.0000,  0.0000, 29.1194,  0.0000,  0.0000]]), tensor([[12314.4062],\n",
              "         [ 8344.0605],\n",
              "         [14151.6631],\n",
              "         ...,\n",
              "         [38387.0312],\n",
              "         [ 6533.5244],\n",
              "         [ 5483.0630]]))"
            ]
          },
          "metadata": {
            "tags": []
          },
          "execution_count": 174
        }
      ]
    },
    {
      "cell_type": "markdown",
      "metadata": {
        "id": "3XLGj3Qo1iRZ"
      },
      "source": [
        "**Q: Pick a number between `0.1` and `0.2` to determine the fraction of data that will be used for creating the validation set. Then use `random_split` to create training & validation datasets.**"
      ]
    },
    {
      "cell_type": "code",
      "metadata": {
        "colab": {
          "base_uri": "https://localhost:8080/"
        },
        "id": "eB5XGcVB1iRZ",
        "outputId": "6b1ac544-cf62-496f-dd59-563bc4ca5b3d"
      },
      "source": [
        "val_percent = 0.12 # between 0.1 and 0.2\n",
        "val_size = int(num_rows * val_percent)\n",
        "train_size = num_rows - val_size\n",
        "print(train_size,val_size)\n",
        "\n",
        "train_ds, val_ds = random_split(dataset, [train_size, val_size]) # Use the random_split function to split dataset into 2 parts of the desired length"
      ],
      "execution_count": null,
      "outputs": [
        {
          "output_type": "stream",
          "text": [
            "1119 152\n"
          ],
          "name": "stdout"
        }
      ]
    },
    {
      "cell_type": "markdown",
      "metadata": {
        "id": "nXOJ7y1D1iRa"
      },
      "source": [
        "Finally, we can create data loaders for training & validation.\n",
        "\n",
        "**Q: Pick a batch size for the data loader.**"
      ]
    },
    {
      "cell_type": "code",
      "metadata": {
        "id": "szg0-lQm1iRa"
      },
      "source": [
        "batch_size = 50"
      ],
      "execution_count": null,
      "outputs": []
    },
    {
      "cell_type": "code",
      "metadata": {
        "id": "BVPKQKvs1iRb"
      },
      "source": [
        "train_loader = DataLoader(train_ds, batch_size, shuffle=True)\n",
        "val_loader = DataLoader(val_ds, batch_size)"
      ],
      "execution_count": null,
      "outputs": []
    },
    {
      "cell_type": "markdown",
      "metadata": {
        "id": "LO5J9CcP1iRc"
      },
      "source": [
        "Let's look at a batch of data to verify everything is working fine so far."
      ]
    },
    {
      "cell_type": "code",
      "metadata": {
        "colab": {
          "base_uri": "https://localhost:8080/"
        },
        "id": "WSBwYyLI1iRc",
        "outputId": "a4e14208-32a5-43e4-b34f-23ba320c4331"
      },
      "source": [
        "for xb, yb in train_loader:\n",
        "    print(\"inputs:\", xb)\n",
        "    print(\"targets:\", yb)\n",
        "    break"
      ],
      "execution_count": null,
      "outputs": [
        {
          "output_type": "stream",
          "text": [
            "inputs: tensor([[64.0000,  0.0000, 30.8703,  2.0000,  0.0000],\n",
            "        [46.0000,  0.0000, 46.6279,  2.0000,  0.0000],\n",
            "        [21.0000,  1.0000, 25.2491,  0.0000,  0.0000],\n",
            "        [30.0000,  0.0000, 19.3515,  3.0000,  0.0000],\n",
            "        [23.0000,  1.0000, 33.3680,  0.0000,  0.0000],\n",
            "        [35.0000,  0.0000, 30.0700,  1.0000,  0.0000],\n",
            "        [63.0000,  0.0000, 34.1440,  1.0000,  0.0000],\n",
            "        [47.0000,  0.0000, 23.5904,  0.0000,  0.0000],\n",
            "        [25.0000,  0.0000, 20.1760,  1.0000,  0.0000],\n",
            "        [44.0000,  1.0000, 36.9182,  1.0000,  0.0000],\n",
            "        [34.0000,  1.0000, 33.1837,  0.0000,  0.0000],\n",
            "        [57.0000,  1.0000, 27.1018,  1.0000,  0.0000],\n",
            "        [49.0000,  0.0000, 35.5311,  3.0000,  0.0000],\n",
            "        [57.0000,  1.0000, 39.7166,  0.0000,  0.0000],\n",
            "        [20.0000,  1.0000, 26.4810,  0.0000,  1.0000],\n",
            "        [27.0000,  0.0000, 33.7560,  1.0000,  0.0000],\n",
            "        [39.0000,  0.0000, 22.5767,  3.0000,  0.0000],\n",
            "        [62.0000,  1.0000, 30.5162,  1.0000,  0.0000],\n",
            "        [26.0000,  1.0000, 45.1341,  1.0000,  0.0000],\n",
            "        [54.0000,  1.0000, 31.7917,  0.0000,  0.0000],\n",
            "        [28.0000,  1.0000, 35.3080,  1.0000,  1.0000],\n",
            "        [38.0000,  0.0000, 26.7720,  0.0000,  0.0000],\n",
            "        [64.0000,  1.0000, 37.9852,  1.0000,  0.0000],\n",
            "        [58.0000,  0.0000, 22.0869,  0.0000,  0.0000],\n",
            "        [26.0000,  1.0000, 30.1331,  0.0000,  0.0000],\n",
            "        [45.0000,  1.0000, 22.8532,  2.0000,  0.0000],\n",
            "        [41.0000,  1.0000, 29.6723,  2.0000,  0.0000],\n",
            "        [37.0000,  0.0000, 16.7713,  2.0000,  0.0000],\n",
            "        [27.0000,  1.0000, 27.6450,  0.0000,  1.0000],\n",
            "        [63.0000,  1.0000, 21.0102,  1.0000,  0.0000],\n",
            "        [52.0000,  0.0000, 29.9487,  0.0000,  0.0000],\n",
            "        [19.0000,  1.0000, 23.8620,  1.0000,  0.0000],\n",
            "        [19.0000,  1.0000, 26.7720,  0.0000,  0.0000],\n",
            "        [20.0000,  1.0000, 34.2507,  1.0000,  0.0000],\n",
            "        [32.0000,  1.0000, 30.5550,  1.0000,  0.0000],\n",
            "        [33.0000,  0.0000, 38.6254,  1.0000,  0.0000],\n",
            "        [51.0000,  0.0000, 35.2934,  3.0000,  0.0000],\n",
            "        [47.0000,  0.0000, 43.9604,  1.0000,  0.0000],\n",
            "        [36.0000,  0.0000, 29.0224,  0.0000,  0.0000],\n",
            "        [19.0000,  0.0000, 27.7420,  5.0000,  0.0000],\n",
            "        [19.0000,  1.0000, 28.1979,  0.0000,  1.0000],\n",
            "        [50.0000,  0.0000, 30.6520,  2.0000,  0.0000],\n",
            "        [19.0000,  0.0000, 28.0330,  0.0000,  0.0000],\n",
            "        [18.0000,  0.0000, 37.5051,  2.0000,  0.0000],\n",
            "        [31.0000,  0.0000, 21.1024,  0.0000,  0.0000],\n",
            "        [32.0000,  0.0000, 22.9405,  1.0000,  0.0000],\n",
            "        [64.0000,  1.0000, 25.6177,  0.0000,  0.0000],\n",
            "        [36.0000,  1.0000, 28.8090,  0.0000,  0.0000],\n",
            "        [46.0000,  1.0000, 42.5733,  3.0000,  0.0000],\n",
            "        [60.0000,  1.0000, 23.5904,  0.0000,  0.0000]])\n",
            "targets: tensor([[16711.8477],\n",
            "        [ 9810.2422],\n",
            "        [ 2186.3552],\n",
            "        [ 5921.1675],\n",
            "        [ 1899.9167],\n",
            "        [ 5450.3955],\n",
            "        [15053.6621],\n",
            "        [ 8876.0586],\n",
            "        [ 3337.1384],\n",
            "        [ 7438.7783],\n",
            "        [ 4092.5872],\n",
            "        [12016.3926],\n",
            "        [10796.7383],\n",
            "        [12028.9521],\n",
            "        [16882.1602],\n",
            "        [ 3721.1189],\n",
            "        [ 8305.9346],\n",
            "        [28081.0234],\n",
            "        [ 3044.1472],\n",
            "        [10852.4678],\n",
            "        [53242.3398],\n",
            "        [ 5598.8774],\n",
            "        [14995.0117],\n",
            "        [12307.1338],\n",
            "        [ 2807.5510],\n",
            "        [ 8947.9766],\n",
            "        [ 7546.9922],\n",
            "        [ 7153.0991],\n",
            "        [19043.1719],\n",
            "        [14923.8486],\n",
            "        [23967.3887],\n",
            "        [ 1910.7264],\n",
            "        [ 1302.5033],\n",
            "        [28833.2598],\n",
            "        [ 4239.5566],\n",
            "        [ 4987.4829],\n",
            "        [11894.2080],\n",
            "        [ 8912.6562],\n",
            "        [ 5084.5981],\n",
            "        [ 4875.3091],\n",
            "        [18046.7871],\n",
            "        [10523.1611],\n",
            "        [ 1812.9425],\n",
            "        [ 3529.0906],\n",
            "        [ 4299.4458],\n",
            "        [18331.2891],\n",
            "        [14970.3398],\n",
            "        [ 4575.7202],\n",
            "        [ 9301.8799],\n",
            "        [13024.5488]])\n"
          ],
          "name": "stdout"
        }
      ]
    },
    {
      "cell_type": "markdown",
      "metadata": {
        "id": "sqFxvMZB1iRc"
      },
      "source": [
        "Let's save our work by committing to Jovian."
      ]
    },
    {
      "cell_type": "code",
      "metadata": {
        "colab": {
          "base_uri": "https://localhost:8080/",
          "height": 105
        },
        "id": "2vMkot0x1iRd",
        "outputId": "b36f4e6c-4843-4dfa-fcaa-8a023b8d60aa"
      },
      "source": [
        "jovian.commit(project=project_name, environment=None)"
      ],
      "execution_count": null,
      "outputs": [
        {
          "output_type": "stream",
          "text": [
            "[jovian] Detected Colab notebook...\u001b[0m\n",
            "[jovian] Uploading colab notebook to Jovian...\u001b[0m\n",
            "[jovian] Attaching records (metrics, hyperparameters, dataset etc.)\u001b[0m\n",
            "[jovian] Committed successfully! https://jovian.ai/rahulgarg95/02-insurance-linear-regression\u001b[0m\n"
          ],
          "name": "stdout"
        },
        {
          "output_type": "execute_result",
          "data": {
            "application/vnd.google.colaboratory.intrinsic+json": {
              "type": "string"
            },
            "text/plain": [
              "'https://jovian.ai/rahulgarg95/02-insurance-linear-regression'"
            ]
          },
          "metadata": {
            "tags": []
          },
          "execution_count": 179
        }
      ]
    },
    {
      "cell_type": "markdown",
      "metadata": {
        "id": "MRKrTWln1iRd"
      },
      "source": [
        "## Step 3: Create a Linear Regression Model\n",
        "\n",
        "Our model itself is a fairly straightforward linear regression (we'll build more complex models in the next assignment). \n"
      ]
    },
    {
      "cell_type": "code",
      "metadata": {
        "id": "5TLwJbqj1iRe"
      },
      "source": [
        "input_size = len(input_cols)\n",
        "output_size = len(output_cols)"
      ],
      "execution_count": null,
      "outputs": []
    },
    {
      "cell_type": "code",
      "metadata": {
        "colab": {
          "base_uri": "https://localhost:8080/"
        },
        "id": "ltTwwnHTCu7K",
        "outputId": "5705ca6b-ef5a-4f6a-c543-790d160ea183"
      },
      "source": [
        "print(input_size,output_size)"
      ],
      "execution_count": null,
      "outputs": [
        {
          "output_type": "stream",
          "text": [
            "5 1\n"
          ],
          "name": "stdout"
        }
      ]
    },
    {
      "cell_type": "markdown",
      "metadata": {
        "id": "y3RtYDhU1iRe"
      },
      "source": [
        "**Q: Complete the class definition below by filling out the constructor (`__init__`), `forward`, `training_step` and `validation_step` methods.**\n",
        "\n",
        "Hint: Think carefully about picking a good loss fuction (it's not cross entropy). Maybe try 2-3 of them and see which one works best. See https://pytorch.org/docs/stable/nn.functional.html#loss-functions"
      ]
    },
    {
      "cell_type": "code",
      "metadata": {
        "id": "PUmPFarg1iRe"
      },
      "source": [
        "class InsuranceModel(nn.Module):\n",
        "    def __init__(self):\n",
        "        super().__init__()\n",
        "        self.linear = nn.Linear(input_size,output_size)                  # fill this (hint: use input_size & output_size defined above)\n",
        "        \n",
        "    def forward(self, xb):\n",
        "        out = self.linear(xb)                          # fill this\n",
        "        return out\n",
        "    \n",
        "    def training_step(self, batch):\n",
        "        inputs, targets = batch \n",
        "        # Generate predictions\n",
        "        out = self(inputs)          \n",
        "        # Calcuate loss\n",
        "        loss = F.l1_loss(out,targets)                          # fill this\n",
        "        return loss\n",
        "    \n",
        "    def validation_step(self, batch):\n",
        "        inputs, targets = batch\n",
        "        # Generate predictions\n",
        "        out = self(inputs)\n",
        "        # Calculate loss\n",
        "        loss = F.l1_loss(out,targets)                           # fill this    \n",
        "        return {'val_loss': loss.detach()}\n",
        "        \n",
        "    def validation_epoch_end(self, outputs):\n",
        "        batch_losses = [x['val_loss'] for x in outputs]\n",
        "        epoch_loss = torch.stack(batch_losses).mean()   # Combine losses\n",
        "        return {'val_loss': epoch_loss.item()}\n",
        "    \n",
        "    def epoch_end(self, epoch, result, num_epochs):\n",
        "        # Print result every 20th epoch\n",
        "        if (epoch+1) % 20 == 0 or epoch == num_epochs-1:\n",
        "            print(\"Epoch [{}], val_loss: {:.4f}\".format(epoch+1, result['val_loss']))"
      ],
      "execution_count": null,
      "outputs": []
    },
    {
      "cell_type": "markdown",
      "metadata": {
        "id": "GgFfksKq1iRf"
      },
      "source": [
        "Let us create a model using the `InsuranceModel` class. You may need to come back later and re-run the next cell to reinitialize the model, in case the loss becomes `nan` or `infinity`."
      ]
    },
    {
      "cell_type": "code",
      "metadata": {
        "id": "bxV5sVsB1iRg"
      },
      "source": [
        "model = InsuranceModel()"
      ],
      "execution_count": null,
      "outputs": []
    },
    {
      "cell_type": "markdown",
      "metadata": {
        "id": "CT9JNOfP1iRh"
      },
      "source": [
        "Let's check out the weights and biases of the model using `model.parameters`."
      ]
    },
    {
      "cell_type": "code",
      "metadata": {
        "colab": {
          "base_uri": "https://localhost:8080/"
        },
        "id": "g2zUbjCF1iRh",
        "outputId": "e24d9551-2e03-40a0-b4d0-65c799a8cfac"
      },
      "source": [
        "list(model.parameters())"
      ],
      "execution_count": null,
      "outputs": [
        {
          "output_type": "execute_result",
          "data": {
            "text/plain": [
              "[Parameter containing:\n",
              " tensor([[ 0.4124, -0.1830, -0.4399, -0.0621, -0.0503]], requires_grad=True),\n",
              " Parameter containing:\n",
              " tensor([-0.2643], requires_grad=True)]"
            ]
          },
          "metadata": {
            "tags": []
          },
          "execution_count": 205
        }
      ]
    },
    {
      "cell_type": "markdown",
      "metadata": {
        "id": "-LPBCsqb1iRh"
      },
      "source": [
        "One final commit before we train the model."
      ]
    },
    {
      "cell_type": "code",
      "metadata": {
        "colab": {
          "base_uri": "https://localhost:8080/",
          "height": 105
        },
        "id": "Wi6zJNbO1iRi",
        "outputId": "c42270b7-2bb8-4b8d-c25a-a7f1218d3205"
      },
      "source": [
        "jovian.commit(project=project_name, environment=None)"
      ],
      "execution_count": null,
      "outputs": [
        {
          "output_type": "stream",
          "text": [
            "[jovian] Detected Colab notebook...\u001b[0m\n",
            "[jovian] Uploading colab notebook to Jovian...\u001b[0m\n",
            "[jovian] Attaching records (metrics, hyperparameters, dataset etc.)\u001b[0m\n",
            "[jovian] Committed successfully! https://jovian.ai/rahulgarg95/02-insurance-linear-regression\u001b[0m\n"
          ],
          "name": "stdout"
        },
        {
          "output_type": "execute_result",
          "data": {
            "application/vnd.google.colaboratory.intrinsic+json": {
              "type": "string"
            },
            "text/plain": [
              "'https://jovian.ai/rahulgarg95/02-insurance-linear-regression'"
            ]
          },
          "metadata": {
            "tags": []
          },
          "execution_count": 206
        }
      ]
    },
    {
      "cell_type": "markdown",
      "metadata": {
        "id": "oui9hRjx1iRi"
      },
      "source": [
        "## Step 4: Train the model to fit the data\n",
        "\n",
        "To train our model, we'll use the same `fit` function explained in the lecture. That's the benefit of defining a generic training loop - you can use it for any problem."
      ]
    },
    {
      "cell_type": "code",
      "metadata": {
        "id": "KxGFcQPp1iRj"
      },
      "source": [
        "def evaluate(model, val_loader):\n",
        "    outputs = [model.validation_step(batch) for batch in val_loader]\n",
        "    return model.validation_epoch_end(outputs)\n",
        "\n",
        "def fit(epochs, lr, model, train_loader, val_loader, opt_func=torch.optim.SGD):\n",
        "    history = []\n",
        "    optimizer = opt_func(model.parameters(), lr)\n",
        "    for epoch in range(epochs):\n",
        "        # Training Phase \n",
        "        for batch in train_loader:\n",
        "            loss = model.training_step(batch)\n",
        "            loss.backward()\n",
        "            optimizer.step()\n",
        "            optimizer.zero_grad()\n",
        "        # Validation phase\n",
        "        result = evaluate(model, val_loader)\n",
        "        model.epoch_end(epoch, result, epochs)\n",
        "        history.append(result)\n",
        "    return history"
      ],
      "execution_count": null,
      "outputs": []
    },
    {
      "cell_type": "markdown",
      "metadata": {
        "id": "iikhoTsw1iRj"
      },
      "source": [
        "**Q: Use the `evaluate` function to calculate the loss on the validation set before training.**"
      ]
    },
    {
      "cell_type": "code",
      "metadata": {
        "colab": {
          "base_uri": "https://localhost:8080/"
        },
        "id": "62f3ogze1iRk",
        "outputId": "e3e109f7-24aa-4ec9-d7c5-b21fd6aaac63"
      },
      "source": [
        "result = evaluate(model,val_loader) # Use the the evaluate function\n",
        "print(result)"
      ],
      "execution_count": null,
      "outputs": [
        {
          "output_type": "stream",
          "text": [
            "{'val_loss': 12418.740234375}\n"
          ],
          "name": "stdout"
        }
      ]
    },
    {
      "cell_type": "code",
      "metadata": {
        "id": "GiZlqr6EE1ug"
      },
      "source": [
        "#model = InsuranceModel()"
      ],
      "execution_count": null,
      "outputs": []
    },
    {
      "cell_type": "markdown",
      "metadata": {
        "id": "v8fG73HT1iRk"
      },
      "source": [
        "\n",
        "We are now ready to train the model. You may need to run the training loop many times, for different number of epochs and with different learning rates, to get a good result. Also, if your loss becomes too large (or `nan`), you may have to re-initialize the model by running the cell `model = InsuranceModel()`. Experiment with this for a while, and try to get to as low a loss as possible."
      ]
    },
    {
      "cell_type": "markdown",
      "metadata": {
        "id": "sxyjN5O41iRk"
      },
      "source": [
        "**Q: Train the model 4-5 times with different learning rates & for different number of epochs.**\n",
        "\n",
        "Hint: Vary learning rates by orders of 10 (e.g. `1e-2`, `1e-3`, `1e-4`, `1e-5`, `1e-6`) to figure out what works."
      ]
    },
    {
      "cell_type": "code",
      "metadata": {
        "colab": {
          "base_uri": "https://localhost:8080/"
        },
        "id": "YMTqBddA1iRl",
        "outputId": "6a94b822-6311-4195-df62-0fafcaff59e3"
      },
      "source": [
        "epochs = 2000\n",
        "lr = 1e-3\n",
        "history1 = fit(epochs, lr, model, train_loader, val_loader)"
      ],
      "execution_count": null,
      "outputs": [
        {
          "output_type": "stream",
          "text": [
            "Epoch [20], val_loss: 11342.9775\n",
            "Epoch [40], val_loss: 10280.0781\n",
            "Epoch [60], val_loss: 9314.5752\n",
            "Epoch [80], val_loss: 8515.9863\n",
            "Epoch [100], val_loss: 7836.7051\n",
            "Epoch [120], val_loss: 7305.8452\n",
            "Epoch [140], val_loss: 6901.4702\n",
            "Epoch [160], val_loss: 6648.8545\n",
            "Epoch [180], val_loss: 6490.1133\n",
            "Epoch [200], val_loss: 6372.4541\n",
            "Epoch [220], val_loss: 6291.9204\n",
            "Epoch [240], val_loss: 6237.6133\n",
            "Epoch [260], val_loss: 6197.1201\n",
            "Epoch [280], val_loss: 6169.5464\n",
            "Epoch [300], val_loss: 6147.0488\n",
            "Epoch [320], val_loss: 6148.4922\n",
            "Epoch [340], val_loss: 6152.1499\n",
            "Epoch [360], val_loss: 6156.2607\n",
            "Epoch [380], val_loss: 6158.7266\n",
            "Epoch [400], val_loss: 6159.6909\n",
            "Epoch [420], val_loss: 6158.3955\n",
            "Epoch [440], val_loss: 6156.3091\n",
            "Epoch [460], val_loss: 6153.8672\n",
            "Epoch [480], val_loss: 6151.0503\n",
            "Epoch [500], val_loss: 6147.7534\n",
            "Epoch [520], val_loss: 6144.5786\n",
            "Epoch [540], val_loss: 6141.2046\n",
            "Epoch [560], val_loss: 6137.9404\n",
            "Epoch [580], val_loss: 6134.0342\n",
            "Epoch [600], val_loss: 6130.0425\n",
            "Epoch [620], val_loss: 6126.7930\n",
            "Epoch [640], val_loss: 6123.3115\n",
            "Epoch [660], val_loss: 6120.0483\n",
            "Epoch [680], val_loss: 6117.0415\n",
            "Epoch [700], val_loss: 6114.2773\n",
            "Epoch [720], val_loss: 6110.8848\n",
            "Epoch [740], val_loss: 6107.8120\n",
            "Epoch [760], val_loss: 6104.2930\n",
            "Epoch [780], val_loss: 6101.4292\n",
            "Epoch [800], val_loss: 6098.9204\n",
            "Epoch [820], val_loss: 6097.0542\n",
            "Epoch [840], val_loss: 6095.0542\n",
            "Epoch [860], val_loss: 6092.0229\n",
            "Epoch [880], val_loss: 6089.6943\n",
            "Epoch [900], val_loss: 6087.2842\n",
            "Epoch [920], val_loss: 6084.8135\n",
            "Epoch [940], val_loss: 6082.2178\n",
            "Epoch [960], val_loss: 6079.7212\n",
            "Epoch [980], val_loss: 6077.5796\n",
            "Epoch [1000], val_loss: 6075.3091\n",
            "Epoch [1020], val_loss: 6072.1909\n",
            "Epoch [1040], val_loss: 6069.0439\n",
            "Epoch [1060], val_loss: 6066.0801\n",
            "Epoch [1080], val_loss: 6063.2173\n",
            "Epoch [1100], val_loss: 6060.3916\n",
            "Epoch [1120], val_loss: 6057.7021\n",
            "Epoch [1140], val_loss: 6054.5737\n",
            "Epoch [1160], val_loss: 6050.7783\n",
            "Epoch [1180], val_loss: 6047.1099\n",
            "Epoch [1200], val_loss: 6043.5181\n",
            "Epoch [1220], val_loss: 6039.4897\n",
            "Epoch [1240], val_loss: 6035.6060\n",
            "Epoch [1260], val_loss: 6032.2993\n",
            "Epoch [1280], val_loss: 6028.8408\n",
            "Epoch [1300], val_loss: 6026.1689\n",
            "Epoch [1320], val_loss: 6023.9019\n",
            "Epoch [1340], val_loss: 6021.5342\n",
            "Epoch [1360], val_loss: 6019.1582\n",
            "Epoch [1380], val_loss: 6016.4263\n",
            "Epoch [1400], val_loss: 6013.7285\n",
            "Epoch [1420], val_loss: 6010.8906\n",
            "Epoch [1440], val_loss: 6008.9609\n",
            "Epoch [1460], val_loss: 6006.0332\n",
            "Epoch [1480], val_loss: 6003.3047\n",
            "Epoch [1500], val_loss: 6000.5137\n",
            "Epoch [1520], val_loss: 5998.6655\n",
            "Epoch [1540], val_loss: 5996.0425\n",
            "Epoch [1560], val_loss: 5993.9507\n",
            "Epoch [1580], val_loss: 5991.4956\n",
            "Epoch [1600], val_loss: 5990.4897\n",
            "Epoch [1620], val_loss: 5988.6504\n",
            "Epoch [1640], val_loss: 5986.3477\n",
            "Epoch [1660], val_loss: 5984.3022\n",
            "Epoch [1680], val_loss: 5981.8198\n",
            "Epoch [1700], val_loss: 5979.7319\n",
            "Epoch [1720], val_loss: 5977.5679\n",
            "Epoch [1740], val_loss: 5975.4697\n",
            "Epoch [1760], val_loss: 5972.3579\n",
            "Epoch [1780], val_loss: 5969.6045\n",
            "Epoch [1800], val_loss: 5966.6191\n",
            "Epoch [1820], val_loss: 5964.4570\n",
            "Epoch [1840], val_loss: 5961.6519\n",
            "Epoch [1860], val_loss: 5959.2432\n",
            "Epoch [1880], val_loss: 5956.9487\n",
            "Epoch [1900], val_loss: 5955.0459\n",
            "Epoch [1920], val_loss: 5953.1597\n",
            "Epoch [1940], val_loss: 5952.1040\n",
            "Epoch [1960], val_loss: 5950.5947\n",
            "Epoch [1980], val_loss: 5948.8901\n",
            "Epoch [2000], val_loss: 5947.4141\n"
          ],
          "name": "stdout"
        }
      ]
    },
    {
      "cell_type": "code",
      "metadata": {
        "colab": {
          "base_uri": "https://localhost:8080/"
        },
        "id": "Axq_76qc1iRl",
        "outputId": "0dedfdc6-6f52-450d-8b4d-dfc5b07e825b"
      },
      "source": [
        "epochs = 800\n",
        "lr = 1e-3\n",
        "history2 = fit(epochs, lr, model, train_loader, val_loader)"
      ],
      "execution_count": null,
      "outputs": [
        {
          "output_type": "stream",
          "text": [
            "Epoch [20], val_loss: 5946.9775\n",
            "Epoch [40], val_loss: 5945.1543\n",
            "Epoch [60], val_loss: 5943.4619\n",
            "Epoch [80], val_loss: 5942.3574\n",
            "Epoch [100], val_loss: 5940.6455\n",
            "Epoch [120], val_loss: 5939.5103\n",
            "Epoch [140], val_loss: 5938.1929\n",
            "Epoch [160], val_loss: 5936.8232\n",
            "Epoch [180], val_loss: 5935.0259\n",
            "Epoch [200], val_loss: 5933.2109\n",
            "Epoch [220], val_loss: 5931.3066\n",
            "Epoch [240], val_loss: 5929.6250\n",
            "Epoch [260], val_loss: 5927.5977\n",
            "Epoch [280], val_loss: 5925.6846\n",
            "Epoch [300], val_loss: 5924.5547\n",
            "Epoch [320], val_loss: 5922.9478\n",
            "Epoch [340], val_loss: 5921.0278\n",
            "Epoch [360], val_loss: 5918.7183\n",
            "Epoch [380], val_loss: 5916.9102\n",
            "Epoch [400], val_loss: 5916.1611\n",
            "Epoch [420], val_loss: 5916.1909\n",
            "Epoch [440], val_loss: 5915.2671\n",
            "Epoch [460], val_loss: 5913.6562\n",
            "Epoch [480], val_loss: 5912.0176\n",
            "Epoch [500], val_loss: 5910.2925\n",
            "Epoch [520], val_loss: 5908.5781\n",
            "Epoch [540], val_loss: 5906.6948\n",
            "Epoch [560], val_loss: 5905.3853\n",
            "Epoch [580], val_loss: 5904.4990\n",
            "Epoch [600], val_loss: 5903.7554\n",
            "Epoch [620], val_loss: 5903.0044\n",
            "Epoch [640], val_loss: 5902.3789\n",
            "Epoch [660], val_loss: 5902.0322\n",
            "Epoch [680], val_loss: 5901.7227\n",
            "Epoch [700], val_loss: 5901.3774\n",
            "Epoch [720], val_loss: 5900.9111\n",
            "Epoch [740], val_loss: 5900.5420\n",
            "Epoch [760], val_loss: 5900.3418\n",
            "Epoch [780], val_loss: 5900.1904\n",
            "Epoch [800], val_loss: 5899.4048\n"
          ],
          "name": "stdout"
        }
      ]
    },
    {
      "cell_type": "code",
      "metadata": {
        "colab": {
          "base_uri": "https://localhost:8080/"
        },
        "id": "ihJNmw5O1iRm",
        "outputId": "d2d5b01a-75da-4640-b3ec-b38fddcaf0b9"
      },
      "source": [
        "epochs = 500\n",
        "lr = 1e-4\n",
        "history3 = fit(epochs, lr, model, train_loader, val_loader)"
      ],
      "execution_count": null,
      "outputs": [
        {
          "output_type": "stream",
          "text": [
            "Epoch [20], val_loss: 5899.2822\n",
            "Epoch [40], val_loss: 5899.1411\n",
            "Epoch [60], val_loss: 5899.0605\n",
            "Epoch [80], val_loss: 5898.9941\n",
            "Epoch [100], val_loss: 5898.9180\n",
            "Epoch [120], val_loss: 5898.8232\n",
            "Epoch [140], val_loss: 5898.7144\n",
            "Epoch [160], val_loss: 5898.5923\n",
            "Epoch [180], val_loss: 5898.5127\n",
            "Epoch [200], val_loss: 5898.4272\n",
            "Epoch [220], val_loss: 5898.3516\n",
            "Epoch [240], val_loss: 5898.2544\n",
            "Epoch [260], val_loss: 5898.1572\n",
            "Epoch [280], val_loss: 5898.0493\n",
            "Epoch [300], val_loss: 5897.9604\n",
            "Epoch [320], val_loss: 5897.8364\n",
            "Epoch [340], val_loss: 5897.6982\n",
            "Epoch [360], val_loss: 5897.6631\n",
            "Epoch [380], val_loss: 5897.6079\n",
            "Epoch [400], val_loss: 5897.5098\n",
            "Epoch [420], val_loss: 5897.3574\n",
            "Epoch [440], val_loss: 5897.2710\n",
            "Epoch [460], val_loss: 5897.1851\n",
            "Epoch [480], val_loss: 5897.0640\n",
            "Epoch [500], val_loss: 5897.0039\n"
          ],
          "name": "stdout"
        }
      ]
    },
    {
      "cell_type": "code",
      "metadata": {
        "colab": {
          "base_uri": "https://localhost:8080/"
        },
        "id": "KUiGFm-r1iRm",
        "outputId": "52db00a8-c030-47d8-ac86-b7035deeb6f3"
      },
      "source": [
        "epochs = 1000\n",
        "lr = 1e-4\n",
        "history4 = fit(epochs, lr, model, train_loader, val_loader)"
      ],
      "execution_count": null,
      "outputs": [
        {
          "output_type": "stream",
          "text": [
            "Epoch [20], val_loss: 5896.8862\n",
            "Epoch [40], val_loss: 5896.8013\n",
            "Epoch [60], val_loss: 5896.6885\n",
            "Epoch [80], val_loss: 5896.6445\n",
            "Epoch [100], val_loss: 5896.5815\n",
            "Epoch [120], val_loss: 5896.4961\n",
            "Epoch [140], val_loss: 5896.3945\n",
            "Epoch [160], val_loss: 5896.3066\n",
            "Epoch [180], val_loss: 5896.2061\n",
            "Epoch [200], val_loss: 5896.0923\n",
            "Epoch [220], val_loss: 5896.0249\n",
            "Epoch [240], val_loss: 5895.9482\n",
            "Epoch [260], val_loss: 5895.8740\n",
            "Epoch [280], val_loss: 5895.7515\n",
            "Epoch [300], val_loss: 5895.6738\n",
            "Epoch [320], val_loss: 5895.5977\n",
            "Epoch [340], val_loss: 5895.5356\n",
            "Epoch [360], val_loss: 5895.4277\n",
            "Epoch [380], val_loss: 5895.3218\n",
            "Epoch [400], val_loss: 5895.2183\n",
            "Epoch [420], val_loss: 5895.2271\n",
            "Epoch [440], val_loss: 5895.3130\n",
            "Epoch [460], val_loss: 5895.4028\n",
            "Epoch [480], val_loss: 5895.4854\n",
            "Epoch [500], val_loss: 5895.5747\n",
            "Epoch [520], val_loss: 5895.6587\n",
            "Epoch [540], val_loss: 5895.7451\n",
            "Epoch [560], val_loss: 5895.8311\n",
            "Epoch [580], val_loss: 5895.9141\n",
            "Epoch [600], val_loss: 5896.0029\n",
            "Epoch [620], val_loss: 5896.0825\n",
            "Epoch [640], val_loss: 5896.1680\n",
            "Epoch [660], val_loss: 5896.2490\n",
            "Epoch [680], val_loss: 5896.3325\n",
            "Epoch [700], val_loss: 5896.4136\n",
            "Epoch [720], val_loss: 5896.5015\n",
            "Epoch [740], val_loss: 5896.5962\n",
            "Epoch [760], val_loss: 5896.6914\n",
            "Epoch [780], val_loss: 5896.7778\n",
            "Epoch [800], val_loss: 5896.8730\n",
            "Epoch [820], val_loss: 5896.9619\n",
            "Epoch [840], val_loss: 5897.0454\n",
            "Epoch [860], val_loss: 5897.1387\n",
            "Epoch [880], val_loss: 5897.2295\n",
            "Epoch [900], val_loss: 5897.3271\n",
            "Epoch [920], val_loss: 5897.4297\n",
            "Epoch [940], val_loss: 5897.5273\n",
            "Epoch [960], val_loss: 5897.6235\n",
            "Epoch [980], val_loss: 5897.7231\n",
            "Epoch [1000], val_loss: 5897.8208\n"
          ],
          "name": "stdout"
        }
      ]
    },
    {
      "cell_type": "code",
      "metadata": {
        "colab": {
          "base_uri": "https://localhost:8080/"
        },
        "id": "Va9dWoJW1iRm",
        "outputId": "9df91367-b9ac-45a5-b7f2-274687d58c60"
      },
      "source": [
        "epochs = 100\n",
        "lr = 1e-6\n",
        "history5 = fit(epochs, lr, model, train_loader, val_loader)"
      ],
      "execution_count": null,
      "outputs": [
        {
          "output_type": "stream",
          "text": [
            "Epoch [20], val_loss: 5897.8218\n",
            "Epoch [40], val_loss: 5897.8228\n",
            "Epoch [60], val_loss: 5897.8232\n",
            "Epoch [80], val_loss: 5897.8247\n",
            "Epoch [100], val_loss: 5897.8252\n"
          ],
          "name": "stdout"
        }
      ]
    },
    {
      "cell_type": "markdown",
      "metadata": {
        "id": "AYS3bsrb1iRn"
      },
      "source": [
        "**Q: What is the final validation loss of your model?**"
      ]
    },
    {
      "cell_type": "code",
      "metadata": {
        "id": "raVLxEpT1iRn"
      },
      "source": [
        "val_loss = evaluate(model, val_loader)"
      ],
      "execution_count": null,
      "outputs": []
    },
    {
      "cell_type": "code",
      "metadata": {
        "colab": {
          "base_uri": "https://localhost:8080/"
        },
        "id": "hdto3q-gQmH5",
        "outputId": "814e5f5e-d9b3-4a28-c7f3-aefb273fb381"
      },
      "source": [
        "print(val_loss)"
      ],
      "execution_count": null,
      "outputs": [
        {
          "output_type": "stream",
          "text": [
            "{'val_loss': 5897.8251953125}\n"
          ],
          "name": "stdout"
        }
      ]
    },
    {
      "cell_type": "markdown",
      "metadata": {
        "id": "IOtLOgfs1iRo"
      },
      "source": [
        "Let's log the final validation loss to Jovian and commit the notebook"
      ]
    },
    {
      "cell_type": "code",
      "metadata": {
        "colab": {
          "base_uri": "https://localhost:8080/"
        },
        "id": "eM4YKo821iRo",
        "outputId": "06b42c41-6e53-430a-a577-a2b39480162d"
      },
      "source": [
        "jovian.log_metrics(val_loss=val_loss)"
      ],
      "execution_count": null,
      "outputs": [
        {
          "output_type": "stream",
          "text": [
            "[jovian] Metrics logged.\u001b[0m\n"
          ],
          "name": "stdout"
        }
      ]
    },
    {
      "cell_type": "code",
      "metadata": {
        "colab": {
          "base_uri": "https://localhost:8080/",
          "height": 105
        },
        "id": "MbQW1hgq1iRo",
        "outputId": "7baa6ee5-02de-4046-b220-cd25bca018f2"
      },
      "source": [
        "jovian.commit(project=project_name, environment=None)"
      ],
      "execution_count": null,
      "outputs": [
        {
          "output_type": "stream",
          "text": [
            "[jovian] Detected Colab notebook...\u001b[0m\n",
            "[jovian] Uploading colab notebook to Jovian...\u001b[0m\n",
            "[jovian] Attaching records (metrics, hyperparameters, dataset etc.)\u001b[0m\n",
            "[jovian] Committed successfully! https://jovian.ai/rahulgarg95/02-insurance-linear-regression\u001b[0m\n"
          ],
          "name": "stdout"
        },
        {
          "output_type": "execute_result",
          "data": {
            "application/vnd.google.colaboratory.intrinsic+json": {
              "type": "string"
            },
            "text/plain": [
              "'https://jovian.ai/rahulgarg95/02-insurance-linear-regression'"
            ]
          },
          "metadata": {
            "tags": []
          },
          "execution_count": 218
        }
      ]
    },
    {
      "cell_type": "markdown",
      "metadata": {
        "id": "3xCJ5_Jw1iRp"
      },
      "source": [
        "Now scroll back up, re-initialize the model, and try different set of values for batch size, number of epochs, learning rate etc. Commit each experiment and use the \"Compare\" and \"View Diff\" options on Jovian to compare the different results."
      ]
    },
    {
      "cell_type": "markdown",
      "metadata": {
        "id": "om4pKmkw1iRp"
      },
      "source": [
        "## Step 5: Make predictions using the trained model\n",
        "\n",
        "**Q: Complete the following function definition to make predictions on a single input**"
      ]
    },
    {
      "cell_type": "code",
      "metadata": {
        "id": "OCj-jGcx1iRp"
      },
      "source": [
        "def predict_single(input, target, model):\n",
        "    inputs = input.unsqueeze(0)\n",
        "    predictions = model(inputs)                # fill this\n",
        "    prediction = predictions[0].detach()\n",
        "    print(\"Input:\", input)\n",
        "    print(\"Target:\", target)\n",
        "    print(\"Prediction:\", prediction)"
      ],
      "execution_count": null,
      "outputs": []
    },
    {
      "cell_type": "code",
      "metadata": {
        "colab": {
          "base_uri": "https://localhost:8080/"
        },
        "id": "mrPbW6F11iRq",
        "outputId": "030f0af5-ae13-4587-e850-1e040b413f55"
      },
      "source": [
        "input, target = val_ds[0]\n",
        "predict_single(input, target, model)"
      ],
      "execution_count": null,
      "outputs": [
        {
          "output_type": "stream",
          "text": [
            "Input: tensor([29.0000,  1.0000, 26.3840,  0.0000,  0.0000])\n",
            "Target: tensor([2980.7346])\n",
            "Prediction: tensor([5544.7427])\n"
          ],
          "name": "stdout"
        }
      ]
    },
    {
      "cell_type": "code",
      "metadata": {
        "colab": {
          "base_uri": "https://localhost:8080/"
        },
        "id": "8M0ziv1A1iRq",
        "outputId": "6a5435d1-a885-4717-d9a8-97fdccfd25b8"
      },
      "source": [
        "input, target = val_ds[10]\n",
        "predict_single(input, target, model)"
      ],
      "execution_count": null,
      "outputs": [
        {
          "output_type": "stream",
          "text": [
            "Input: tensor([32.0000,  1.0000, 36.0646,  2.0000,  0.0000])\n",
            "Target: tensor([4860.3281])\n",
            "Prediction: tensor([5713.7871])\n"
          ],
          "name": "stdout"
        }
      ]
    },
    {
      "cell_type": "code",
      "metadata": {
        "colab": {
          "base_uri": "https://localhost:8080/"
        },
        "id": "GNIzHWQh1iRr",
        "outputId": "72e52d8c-15de-43ca-d9c3-3b0651e303a7"
      },
      "source": [
        "input, target = val_ds[23]\n",
        "predict_single(input, target, model)"
      ],
      "execution_count": null,
      "outputs": [
        {
          "output_type": "stream",
          "text": [
            "Input: tensor([21.0000,  1.0000, 28.1057,  0.0000,  0.0000])\n",
            "Target: tensor([1982.6125])\n",
            "Prediction: tensor([3462.8467])\n"
          ],
          "name": "stdout"
        }
      ]
    },
    {
      "cell_type": "markdown",
      "metadata": {
        "id": "2cqcI-oR1iRr"
      },
      "source": [
        "Are you happy with your model's predictions? Try to improve them further."
      ]
    },
    {
      "cell_type": "markdown",
      "metadata": {
        "id": "d9ankP2v1iRr"
      },
      "source": [
        "## (Optional) Step 6: Try another dataset & blog about it\n",
        "\n",
        "While this last step is optional for the submission of your assignment, we highly recommend that you do it. Try to replicate this notebook for a different linear regression or logistic regression problem. This will help solidify your understanding, and give you a chance to differentiate the generic patterns in machine learning from problem-specific details.You can use one of these starer notebooks (just change the dataset):\n",
        "\n",
        "- Linear regression (minimal): https://jovian.ai/aakashns/housing-linear-minimal\n",
        "- Logistic regression (minimal): https://jovian.ai/aakashns/mnist-logistic-minimal\n",
        "\n",
        "Here are some sources to find good datasets:\n",
        "\n",
        "- https://lionbridge.ai/datasets/10-open-datasets-for-linear-regression/\n",
        "- https://www.kaggle.com/rtatman/datasets-for-regression-analysis\n",
        "- https://archive.ics.uci.edu/ml/datasets.php?format=&task=reg&att=&area=&numAtt=&numIns=&type=&sort=nameUp&view=table\n",
        "- https://people.sc.fsu.edu/~jburkardt/datasets/regression/regression.html\n",
        "- https://archive.ics.uci.edu/ml/datasets/wine+quality\n",
        "- https://pytorch.org/docs/stable/torchvision/datasets.html\n",
        "\n",
        "We also recommend that you write a blog about your approach to the problem. Here is a suggested structure for your post (feel free to experiment with it):\n",
        "\n",
        "- Interesting title & subtitle\n",
        "- Overview of what the blog covers (which dataset, linear regression or logistic regression, intro to PyTorch)\n",
        "- Downloading & exploring the data\n",
        "- Preparing the data for training\n",
        "- Creating a model using PyTorch\n",
        "- Training the model to fit the data\n",
        "- Your thoughts on how to experiment with different hyperparmeters to reduce loss\n",
        "- Making predictions using the model\n",
        "\n",
        "As with the previous assignment, you can [embed Juptyer notebook cells & outputs from Jovian](https://medium.com/jovianml/share-and-embed-jupyter-notebooks-online-with-jovian-ml-df709a03064e) into your blog. \n",
        "\n",
        "Don't forget to share your work on the forum: https://jovian.ai/forum/t/linear-regression-and-logistic-regression-notebooks-and-blog-posts/14039"
      ]
    },
    {
      "cell_type": "code",
      "metadata": {
        "id": "cxWN7NZi1iRs"
      },
      "source": [
        "jovian.commit(project=project_name, environment=None)\n",
        "jovian.commit(project=project_name, environment=None) # try again, kaggle fails sometimes"
      ],
      "execution_count": null,
      "outputs": []
    },
    {
      "cell_type": "code",
      "metadata": {
        "id": "ZRJffrZu1iRs"
      },
      "source": [
        ""
      ],
      "execution_count": null,
      "outputs": []
    }
  ]
}