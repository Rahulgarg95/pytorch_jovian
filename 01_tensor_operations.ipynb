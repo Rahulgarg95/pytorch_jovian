{
  "nbformat": 4,
  "nbformat_minor": 0,
  "metadata": {
    "kernelspec": {
      "display_name": "Python 3",
      "language": "python",
      "name": "python3"
    },
    "language_info": {
      "codemirror_mode": {
        "name": "ipython",
        "version": 3
      },
      "file_extension": ".py",
      "mimetype": "text/x-python",
      "name": "python",
      "nbconvert_exporter": "python",
      "pygments_lexer": "ipython3",
      "version": "3.8.5"
    },
    "colab": {
      "name": "01-tensor-operations.ipynb",
      "provenance": [],
      "include_colab_link": true
    }
  },
  "cells": [
    {
      "cell_type": "markdown",
      "metadata": {
        "id": "view-in-github",
        "colab_type": "text"
      },
      "source": [
        "<a href=\"https://colab.research.google.com/github/Rahulgarg95/pytorch_jovian/blob/main/01_tensor_operations.ipynb\" target=\"_parent\"><img src=\"https://colab.research.google.com/assets/colab-badge.svg\" alt=\"Open In Colab\"/></a>"
      ]
    },
    {
      "cell_type": "code",
      "metadata": {
        "id": "gIwXQyYwwUDB"
      },
      "source": [
        "# Jovian Commit Essentials\n",
        "# Please retain and execute this cell without modifying the contents for `jovian.commit` to work\n",
        "!pip install jovian --upgrade -q\n",
        "import jovian\n",
        "jovian.utils.colab.set_colab_file_id('1bhcWOHT4J4zU_NTNMO1_eAzq4xU5n9KC')"
      ],
      "execution_count": 31,
      "outputs": []
    },
    {
      "cell_type": "markdown",
      "metadata": {
        "id": "RinspBr7wUDC"
      },
      "source": [
        "# 5 Pytorch Basic Functions Every Developer Should Know About\n",
        "\n",
        "PyTorch is a Python-based scientific computing package that uses the power of graphics processing units. It is also one of the preferred deep learning research platforms built to provide maximum flexibility and speed. It is known for providing two of the most high-level features; namely, tensor computations with strong GPU acceleration support and building deep neural networks on a tape-based autograd systems.\n",
        "\n",
        "- torch.from_numpy()\n",
        "- torch.chunk()\n",
        "- torch.stack()\n",
        "- torch.addcmul()\n",
        "- torch.where()\n",
        "\n",
        "Before we begin, let's install and import PyTorch"
      ]
    },
    {
      "cell_type": "code",
      "metadata": {
        "id": "-Ti2laU4wUDC"
      },
      "source": [
        "# Uncomment and run the appropriate command for your operating system, if required\n",
        "\n",
        "# Linux / Binder\n",
        "# !pip install numpy torch==1.7.0+cpu torchvision==0.8.1+cpu torchaudio==0.7.0 -f https://download.pytorch.org/whl/torch_stable.html\n",
        "\n",
        "# Windows\n",
        "# !pip install numpy torch==1.7.0+cpu torchvision==0.8.1+cpu torchaudio==0.7.0 -f https://download.pytorch.org/whl/torch_stable.html\n",
        "\n",
        "# MacOS\n",
        "# !pip install numpy torch torchvision torchaudio"
      ],
      "execution_count": 32,
      "outputs": []
    },
    {
      "cell_type": "code",
      "metadata": {
        "id": "V8yeRH5swUDC"
      },
      "source": [
        "# Import torch and other required modules\n",
        "import torch\n",
        "import numpy as np"
      ],
      "execution_count": 33,
      "outputs": []
    },
    {
      "cell_type": "markdown",
      "metadata": {
        "id": "SrRTW5rgwUDC"
      },
      "source": [
        "## Function 1 - torch.from_numpy()\n",
        "\n",
        "A Pytorch method to converts a numpy array to a tensor.\n",
        "The returned tensor(output) and ndarray(input) share the same memory. The returned tensor is not resizable."
      ]
    },
    {
      "cell_type": "code",
      "metadata": {
        "colab": {
          "base_uri": "https://localhost:8080/"
        },
        "id": "kU9D-3K2wUDC",
        "outputId": "b9c27065-b908-4ba0-c297-61bc86cd91da"
      },
      "source": [
        "# Example 1 - working\n",
        "x=np.array([1,2,3,4,5,6,7,8,9])\n",
        "print(type(x))\n",
        "print('Numpy Array ==> ',x,type(x[0]))\n",
        "\n",
        "t=torch.from_numpy(x)\n",
        "print(type(t))\n",
        "print('New Tensor ==> ',t,type(t[0].item()))"
      ],
      "execution_count": 34,
      "outputs": [
        {
          "output_type": "stream",
          "text": [
            "<class 'numpy.ndarray'>\n",
            "Numpy Array ==>  [1 2 3 4 5 6 7 8 9] <class 'numpy.int64'>\n",
            "<class 'torch.Tensor'>\n",
            "New Tensor ==>  tensor([1, 2, 3, 4, 5, 6, 7, 8, 9]) <class 'int'>\n"
          ],
          "name": "stdout"
        }
      ]
    },
    {
      "cell_type": "markdown",
      "metadata": {
        "id": "VCWIR7DAwUDE"
      },
      "source": [
        "The above example demonstrates how a 1-D numpy array is converted to tensor using simple from_numpy function.\n",
        "As can be seen the datatype remains the same."
      ]
    },
    {
      "cell_type": "code",
      "metadata": {
        "colab": {
          "base_uri": "https://localhost:8080/"
        },
        "id": "uLcfXK5awUDE",
        "outputId": "49314a1b-3e1d-4dfc-9278-f1e94889fa2d"
      },
      "source": [
        "# Example 2 - working\n",
        "x=np.array([[1,2.5,3],[4,5,6]])\n",
        "print(type(x))\n",
        "print('Numpy Array ==> ',x,type(x[0][0]))\n",
        "\n",
        "t=torch.from_numpy(x)\n",
        "print(type(t))\n",
        "print('New Tensor ==> ',t,type(t[0][0].item()))"
      ],
      "execution_count": 35,
      "outputs": [
        {
          "output_type": "stream",
          "text": [
            "<class 'numpy.ndarray'>\n",
            "Numpy Array ==>  [[1.  2.5 3. ]\n",
            " [4.  5.  6. ]] <class 'numpy.float64'>\n",
            "<class 'torch.Tensor'>\n",
            "New Tensor ==>  tensor([[1.0000, 2.5000, 3.0000],\n",
            "        [4.0000, 5.0000, 6.0000]], dtype=torch.float64) <class 'float'>\n"
          ],
          "name": "stdout"
        }
      ]
    },
    {
      "cell_type": "markdown",
      "metadata": {
        "id": "OcECa8DdwUDE"
      },
      "source": [
        "The above example demontrates converting a numpy 2-D array to tensor. Even if one element is float the whole array is converted to float and the same populates to tensor created."
      ]
    },
    {
      "cell_type": "code",
      "metadata": {
        "colab": {
          "base_uri": "https://localhost:8080/",
          "height": 270
        },
        "id": "n1QL54owwUDE",
        "outputId": "f3151982-0ce6-49a2-a7f5-91707c9013b3"
      },
      "source": [
        "# Example 3 - breaking (to illustrate when it breaks)\n",
        "x=np.array(['a',1,2])\n",
        "print(type(x))\n",
        "print('Numpy Array ==> ',x,type(x))\n",
        "\n",
        "t=torch.from_numpy(x)\n",
        "print(t)"
      ],
      "execution_count": 36,
      "outputs": [
        {
          "output_type": "stream",
          "text": [
            "<class 'numpy.ndarray'>\n",
            "Numpy Array ==>  ['a' '1' '2'] <class 'numpy.ndarray'>\n"
          ],
          "name": "stdout"
        },
        {
          "output_type": "error",
          "ename": "TypeError",
          "evalue": "ignored",
          "traceback": [
            "\u001b[0;31m---------------------------------------------------------------------------\u001b[0m",
            "\u001b[0;31mTypeError\u001b[0m                                 Traceback (most recent call last)",
            "\u001b[0;32m<ipython-input-36-874c297cf80c>\u001b[0m in \u001b[0;36m<module>\u001b[0;34m()\u001b[0m\n\u001b[1;32m      4\u001b[0m \u001b[0mprint\u001b[0m\u001b[0;34m(\u001b[0m\u001b[0;34m'Numpy Array ==> '\u001b[0m\u001b[0;34m,\u001b[0m\u001b[0mx\u001b[0m\u001b[0;34m,\u001b[0m\u001b[0mtype\u001b[0m\u001b[0;34m(\u001b[0m\u001b[0mx\u001b[0m\u001b[0;34m)\u001b[0m\u001b[0;34m)\u001b[0m\u001b[0;34m\u001b[0m\u001b[0;34m\u001b[0m\u001b[0m\n\u001b[1;32m      5\u001b[0m \u001b[0;34m\u001b[0m\u001b[0m\n\u001b[0;32m----> 6\u001b[0;31m \u001b[0mt\u001b[0m\u001b[0;34m=\u001b[0m\u001b[0mtorch\u001b[0m\u001b[0;34m.\u001b[0m\u001b[0mfrom_numpy\u001b[0m\u001b[0;34m(\u001b[0m\u001b[0mx\u001b[0m\u001b[0;34m)\u001b[0m\u001b[0;34m\u001b[0m\u001b[0;34m\u001b[0m\u001b[0m\n\u001b[0m\u001b[1;32m      7\u001b[0m \u001b[0mprint\u001b[0m\u001b[0;34m(\u001b[0m\u001b[0mt\u001b[0m\u001b[0;34m)\u001b[0m\u001b[0;34m\u001b[0m\u001b[0;34m\u001b[0m\u001b[0m\n",
            "\u001b[0;31mTypeError\u001b[0m: can't convert np.ndarray of type numpy.str_. The only supported types are: float64, float32, float16, complex64, complex128, int64, int32, int16, int8, uint8, and bool."
          ]
        }
      ]
    },
    {
      "cell_type": "markdown",
      "metadata": {
        "id": "160Msp_EwUDE"
      },
      "source": [
        "In above example we created a numpy arraye with a combination of string and numbers. torch.from_numpy method breaks in this case and raises exception as this method from excepts int,float,bool & complex datatypes."
      ]
    },
    {
      "cell_type": "markdown",
      "metadata": {
        "id": "AhMh9adqwUDF"
      },
      "source": [
        "The function can be extensively used as multiple libraries like scipy and statsmodel are compatible with numpy arrays, which provides pytorch users with a power to use these libraries after converting tensor to numpy array.As the memory location remains same hence it is performance efficient as well."
      ]
    },
    {
      "cell_type": "code",
      "metadata": {
        "id": "Zu1MhhqQwUDF"
      },
      "source": [
        "!pip install jovian --upgrade --quiet"
      ],
      "execution_count": 37,
      "outputs": []
    },
    {
      "cell_type": "code",
      "metadata": {
        "id": "nk2oEtYIwUDF"
      },
      "source": [
        "import jovian"
      ],
      "execution_count": 38,
      "outputs": []
    },
    {
      "cell_type": "code",
      "metadata": {
        "colab": {
          "base_uri": "https://localhost:8080/",
          "height": 139
        },
        "id": "HqEqVZDbwUDF",
        "outputId": "8212fa63-c4d3-40e2-9421-c9fcd4c13b1c"
      },
      "source": [
        "jovian.commit(project='01-tensor-operations')"
      ],
      "execution_count": 39,
      "outputs": [
        {
          "output_type": "stream",
          "text": [
            "[jovian] Detected Colab notebook...\u001b[0m\n",
            "[jovian] Please enter your API key ( from https://jovian.ai/ ):\u001b[0m\n",
            "API KEY: ··········\n",
            "[jovian] Uploading colab notebook to Jovian...\u001b[0m\n",
            "[jovian] Capturing environment..\u001b[0m\n",
            "[jovian] Committed successfully! https://jovian.ai/rahulgarg95/01-tensor-operations\u001b[0m\n"
          ],
          "name": "stdout"
        },
        {
          "output_type": "execute_result",
          "data": {
            "application/vnd.google.colaboratory.intrinsic+json": {
              "type": "string"
            },
            "text/plain": [
              "'https://jovian.ai/rahulgarg95/01-tensor-operations'"
            ]
          },
          "metadata": {
            "tags": []
          },
          "execution_count": 39
        }
      ]
    },
    {
      "cell_type": "markdown",
      "metadata": {
        "id": "bU0w1chvwUDF"
      },
      "source": [
        "## torch.chunk()\n",
        "\n",
        "The function is used to divide a tensor into multiple smaller tensors as per the chunks count entered by the user and along the specified axis."
      ]
    },
    {
      "cell_type": "code",
      "metadata": {
        "colab": {
          "base_uri": "https://localhost:8080/"
        },
        "id": "jHMApJTuwUDF",
        "outputId": "6d2425f0-ef60-43b2-c381-47ddf2876053"
      },
      "source": [
        "# Example 1 - working\n",
        "t=torch.tensor([[1,2,3],[4,5,6],[7,8,9]])\n",
        "print(t)\n",
        "\n",
        "output=torch.chunk(t,3,0)\n",
        "print(type(output),output)"
      ],
      "execution_count": 48,
      "outputs": [
        {
          "output_type": "stream",
          "text": [
            "tensor([[1, 2, 3],\n",
            "        [4, 5, 6],\n",
            "        [7, 8, 9]])\n",
            "<class 'tuple'> (tensor([[1, 2, 3]]), tensor([[4, 5, 6]]), tensor([[7, 8, 9]]))\n"
          ],
          "name": "stdout"
        }
      ]
    },
    {
      "cell_type": "markdown",
      "metadata": {
        "id": "tSyw3OrkwUDF"
      },
      "source": [
        "The above exmple illustrates a typical example of torch.chunk here we are dividing tensor into 3 chunks along the row axis.\n",
        "\n",
        "The output returns tuple of 3 1-D tensors."
      ]
    },
    {
      "cell_type": "code",
      "metadata": {
        "colab": {
          "base_uri": "https://localhost:8080/"
        },
        "id": "9xpKRs2VwUDF",
        "outputId": "e4b129ad-03c0-4c58-c5ed-26db80518cdb"
      },
      "source": [
        "# Example 2 - working\n",
        "t=torch.tensor([[1,2,3],[4,5,6],[7,8,9]])\n",
        "print(t)\n",
        "\n",
        "output=torch.chunk(t,2,1)\n",
        "print(type(output),output)"
      ],
      "execution_count": 55,
      "outputs": [
        {
          "output_type": "stream",
          "text": [
            "tensor([[1, 2, 3],\n",
            "        [4, 5, 6],\n",
            "        [7, 8, 9]])\n",
            "<class 'tuple'> (tensor([[1, 2],\n",
            "        [4, 5],\n",
            "        [7, 8]]), tensor([[3],\n",
            "        [6],\n",
            "        [9]]))\n",
            "tensor([[1, 2],\n",
            "        [4, 5],\n",
            "        [7, 8]])\n"
          ],
          "name": "stdout"
        }
      ]
    },
    {
      "cell_type": "markdown",
      "metadata": {
        "id": "rQ6wYq91wUDF"
      },
      "source": [
        "In the above example we enchanced the previous example and tried to get chunks along the column axis. Also we provided number of chunks a number which does not given modulus of len as 0. Here we see the first chunk contains two columns and other one containing only 1."
      ]
    },
    {
      "cell_type": "code",
      "metadata": {
        "colab": {
          "base_uri": "https://localhost:8080/"
        },
        "id": "wfxKOm5ewUDF",
        "outputId": "9acb47e0-534d-4fb0-d7a8-68c7b3d23383"
      },
      "source": [
        "# Example 3 - breaking (to illustrate when it breaks)\n",
        "t=torch.tensor([[1,2,3],[4,5,6],[7,8,9]])\n",
        "print(t)\n",
        "\n",
        "try:\n",
        "  output=torch.chunk(t,1,2)\n",
        "  print(type(output),output)\n",
        "except Exception as e:\n",
        "  print('Error: ',e)\n",
        "\n",
        "\n",
        "t=torch.tensor([[[1,2,3],[4,5,6],[7,8,9]],[[1,2,3],[4,5,6],[7,8,9]]])\n",
        "print(t)\n",
        "\n",
        "output=torch.chunk(t,1,2)\n",
        "print(type(output),output)"
      ],
      "execution_count": 65,
      "outputs": [
        {
          "output_type": "stream",
          "text": [
            "tensor([[1, 2, 3],\n",
            "        [4, 5, 6],\n",
            "        [7, 8, 9]])\n",
            "Dimension out of range (expected to be in range of [-2, 1], but got 2)\n",
            "tensor([[[1, 2, 3],\n",
            "         [4, 5, 6],\n",
            "         [7, 8, 9]],\n",
            "\n",
            "        [[1, 2, 3],\n",
            "         [4, 5, 6],\n",
            "         [7, 8, 9]]])\n",
            "<class 'tuple'> (tensor([[[1, 2, 3],\n",
            "         [4, 5, 6],\n",
            "         [7, 8, 9]],\n",
            "\n",
            "        [[1, 2, 3],\n",
            "         [4, 5, 6],\n",
            "         [7, 8, 9]]]),)\n"
          ],
          "name": "stdout"
        }
      ]
    },
    {
      "cell_type": "markdown",
      "metadata": {
        "id": "wIjBqYn9wUDF"
      },
      "source": [
        "The above example illustrates the breaking point of chunk function. The axis value should be in range[-n,n-1] as specified in error. Hence while working with multiple dimension matrixes we need to keep this into account.\n",
        "As same arguments work with 3-D but gives error with 2-D."
      ]
    },
    {
      "cell_type": "markdown",
      "metadata": {
        "id": "TJJh-X5WwUDF"
      },
      "source": [
        "tensor.chunk() can be used widely to divide data into test and training sets and then apply operations seperately on multiple chunks."
      ]
    },
    {
      "cell_type": "code",
      "metadata": {
        "colab": {
          "base_uri": "https://localhost:8080/",
          "height": 105
        },
        "id": "9nFSELwowUDF",
        "outputId": "8b849977-26b1-44f5-97eb-8feb4c5bb7cf"
      },
      "source": [
        "jovian.commit(project='01-tensor-operations')"
      ],
      "execution_count": 66,
      "outputs": [
        {
          "output_type": "stream",
          "text": [
            "[jovian] Detected Colab notebook...\u001b[0m\n",
            "[jovian] Uploading colab notebook to Jovian...\u001b[0m\n",
            "[jovian] Capturing environment..\u001b[0m\n",
            "[jovian] Committed successfully! https://jovian.ai/rahulgarg95/01-tensor-operations\u001b[0m\n"
          ],
          "name": "stdout"
        },
        {
          "output_type": "execute_result",
          "data": {
            "application/vnd.google.colaboratory.intrinsic+json": {
              "type": "string"
            },
            "text/plain": [
              "'https://jovian.ai/rahulgarg95/01-tensor-operations'"
            ]
          },
          "metadata": {
            "tags": []
          },
          "execution_count": 66
        }
      ]
    },
    {
      "cell_type": "markdown",
      "metadata": {
        "id": "N0gZjAS0wUDF"
      },
      "source": [
        "## torch.stack()\n",
        "\n",
        "Concatenates a sequence of tensors along a new dimension."
      ]
    },
    {
      "cell_type": "code",
      "metadata": {
        "colab": {
          "base_uri": "https://localhost:8080/"
        },
        "id": "yPK41HBswUDF",
        "outputId": "780d3b45-da01-45b7-e74b-2c0b875a6457"
      },
      "source": [
        "# Example 1 - working\n",
        "t1=torch.tensor([[1,2,3],[4,5,6]])\n",
        "print('Tensor1 ==> ',t1, t1.shape)\n",
        "\n",
        "t2=torch.tensor([[10,20,30],[40,50,60]])\n",
        "print('Tensor1 ==> ',t2, t2.shape)\n",
        "\n",
        "t=torch.stack((t1,t2))\n",
        "print('Stacked Tensor ==> ', t, t.shape)"
      ],
      "execution_count": 73,
      "outputs": [
        {
          "output_type": "stream",
          "text": [
            "Tensor1 ==>  tensor([[1, 2, 3],\n",
            "        [4, 5, 6]]) torch.Size([2, 3])\n",
            "Tensor1 ==>  tensor([[10, 20, 30],\n",
            "        [40, 50, 60]]) torch.Size([2, 3])\n",
            "Stacked Tensor ==>  tensor([[[ 1,  2,  3],\n",
            "         [ 4,  5,  6]],\n",
            "\n",
            "        [[10, 20, 30],\n",
            "         [40, 50, 60]]]) torch.Size([2, 2, 3])\n"
          ],
          "name": "stdout"
        }
      ]
    },
    {
      "cell_type": "markdown",
      "metadata": {
        "id": "qYsAp0ucwUDG"
      },
      "source": [
        "In the above example we demonstrated a basic example of stacking where two 2-D tensors of shape (2,3) are stacked to give a 3-D tensor of size (2,2,3). The stacking is done along the row axis."
      ]
    },
    {
      "cell_type": "code",
      "metadata": {
        "colab": {
          "base_uri": "https://localhost:8080/"
        },
        "id": "XI3XTQBzwUDG",
        "outputId": "92c3d1bd-23bf-4ac1-ca13-fd7c1e42494b"
      },
      "source": [
        "# Example 2 - working\n",
        "t1=torch.tensor([[1,2,3],[4,5,6]])\n",
        "print('Tensor1 ==> ',t1, t1.shape)\n",
        "\n",
        "t2=torch.tensor([[10,20,30],[40,50,60]])\n",
        "print('Tensor1 ==> ',t2, t2.shape)\n",
        "\n",
        "torch.stack((t1,t2),1,out=t)\n",
        "print('Stacked Tensor ==> ', t, t.shape)"
      ],
      "execution_count": 76,
      "outputs": [
        {
          "output_type": "stream",
          "text": [
            "Tensor1 ==>  tensor([[1, 2, 3],\n",
            "        [4, 5, 6]]) torch.Size([2, 3])\n",
            "Tensor1 ==>  tensor([[10, 20, 30],\n",
            "        [40, 50, 60]]) torch.Size([2, 3])\n",
            "Stacked Tensor ==>  tensor([[[ 1,  2,  3],\n",
            "         [10, 20, 30]],\n",
            "\n",
            "        [[ 4,  5,  6],\n",
            "         [40, 50, 60]]]) torch.Size([2, 2, 3])\n"
          ],
          "name": "stdout"
        }
      ]
    },
    {
      "cell_type": "markdown",
      "metadata": {
        "id": "S2Ux-BUYwUDG"
      },
      "source": [
        "The above example enhances the previous example by stacking the tensors along a different axis also we implicity define the output tensor where the output is saved."
      ]
    },
    {
      "cell_type": "code",
      "metadata": {
        "colab": {
          "base_uri": "https://localhost:8080/",
          "height": 270
        },
        "id": "lZtOkStRwUDG",
        "outputId": "3f8eee2f-dd6f-4682-b5f5-ad2900c8ed2f"
      },
      "source": [
        "# Example 3 - breaking (to illustrate when it breaks)\n",
        "# Example 1 - working\n",
        "t1=torch.tensor([[1,2,3],[4,5,6]])\n",
        "print('Tensor1 ==> ',t1, t1.shape)\n",
        "\n",
        "t2=torch.tensor([[10,20,30]])\n",
        "print('Tensor1 ==> ',t2, t2.shape)\n",
        "\n",
        "t=torch.stack((t1,t2))\n",
        "print('Stacked Tensor ==> ', t, t.shape)"
      ],
      "execution_count": 77,
      "outputs": [
        {
          "output_type": "stream",
          "text": [
            "Tensor1 ==>  tensor([[1, 2, 3],\n",
            "        [4, 5, 6]]) torch.Size([2, 3])\n",
            "Tensor1 ==>  tensor([[10, 20, 30]]) torch.Size([1, 3])\n"
          ],
          "name": "stdout"
        },
        {
          "output_type": "error",
          "ename": "RuntimeError",
          "evalue": "ignored",
          "traceback": [
            "\u001b[0;31m---------------------------------------------------------------------------\u001b[0m",
            "\u001b[0;31mRuntimeError\u001b[0m                              Traceback (most recent call last)",
            "\u001b[0;32m<ipython-input-77-3fb28a6348ac>\u001b[0m in \u001b[0;36m<module>\u001b[0;34m()\u001b[0m\n\u001b[1;32m      7\u001b[0m \u001b[0mprint\u001b[0m\u001b[0;34m(\u001b[0m\u001b[0;34m'Tensor1 ==> '\u001b[0m\u001b[0;34m,\u001b[0m\u001b[0mt2\u001b[0m\u001b[0;34m,\u001b[0m \u001b[0mt2\u001b[0m\u001b[0;34m.\u001b[0m\u001b[0mshape\u001b[0m\u001b[0;34m)\u001b[0m\u001b[0;34m\u001b[0m\u001b[0;34m\u001b[0m\u001b[0m\n\u001b[1;32m      8\u001b[0m \u001b[0;34m\u001b[0m\u001b[0m\n\u001b[0;32m----> 9\u001b[0;31m \u001b[0mt\u001b[0m\u001b[0;34m=\u001b[0m\u001b[0mtorch\u001b[0m\u001b[0;34m.\u001b[0m\u001b[0mstack\u001b[0m\u001b[0;34m(\u001b[0m\u001b[0;34m(\u001b[0m\u001b[0mt1\u001b[0m\u001b[0;34m,\u001b[0m\u001b[0mt2\u001b[0m\u001b[0;34m)\u001b[0m\u001b[0;34m)\u001b[0m\u001b[0;34m\u001b[0m\u001b[0;34m\u001b[0m\u001b[0m\n\u001b[0m\u001b[1;32m     10\u001b[0m \u001b[0mprint\u001b[0m\u001b[0;34m(\u001b[0m\u001b[0;34m'Stacked Tensor ==> '\u001b[0m\u001b[0;34m,\u001b[0m \u001b[0mt\u001b[0m\u001b[0;34m,\u001b[0m \u001b[0mt\u001b[0m\u001b[0;34m.\u001b[0m\u001b[0mshape\u001b[0m\u001b[0;34m)\u001b[0m\u001b[0;34m\u001b[0m\u001b[0;34m\u001b[0m\u001b[0m\n",
            "\u001b[0;31mRuntimeError\u001b[0m: stack expects each tensor to be equal size, but got [2, 3] at entry 0 and [1, 3] at entry 1"
          ]
        }
      ]
    },
    {
      "cell_type": "markdown",
      "metadata": {
        "id": "mg1xz1E1wUDG"
      },
      "source": [
        "The above example illustrates where torch.stack() breaks or gives an exception. The tensors should be of same shape along the axis for stacking to happen otherwise error is thrown."
      ]
    },
    {
      "cell_type": "markdown",
      "metadata": {
        "id": "fcrnWQkRwUDG"
      },
      "source": [
        "torch.stack function will be used in scenarios where a new dimension needs to be added to existing tensor. As tensor.cat function only appends the data along with the existing axis."
      ]
    },
    {
      "cell_type": "code",
      "metadata": {
        "colab": {
          "base_uri": "https://localhost:8080/",
          "height": 105
        },
        "id": "ULMj_rG1wUDG",
        "outputId": "ed10cf90-89dc-4c59-9aae-467e1350d54b"
      },
      "source": [
        "jovian.commit(project='01-tensor-operations')"
      ],
      "execution_count": 78,
      "outputs": [
        {
          "output_type": "stream",
          "text": [
            "[jovian] Detected Colab notebook...\u001b[0m\n",
            "[jovian] Uploading colab notebook to Jovian...\u001b[0m\n",
            "[jovian] Capturing environment..\u001b[0m\n",
            "[jovian] Committed successfully! https://jovian.ai/rahulgarg95/01-tensor-operations\u001b[0m\n"
          ],
          "name": "stdout"
        },
        {
          "output_type": "execute_result",
          "data": {
            "application/vnd.google.colaboratory.intrinsic+json": {
              "type": "string"
            },
            "text/plain": [
              "'https://jovian.ai/rahulgarg95/01-tensor-operations'"
            ]
          },
          "metadata": {
            "tags": []
          },
          "execution_count": 78
        }
      ]
    },
    {
      "cell_type": "markdown",
      "metadata": {
        "id": "8zXBHT23wUDG"
      },
      "source": [
        "## torch.addcmul()\n",
        "\n",
        "The function performs element wise multiplication of tensor1 and tensor2, multiply the result with a specified scalar value and adding the result with input tensors."
      ]
    },
    {
      "cell_type": "code",
      "metadata": {
        "colab": {
          "base_uri": "https://localhost:8080/"
        },
        "id": "e_x-t4vXwUDG",
        "outputId": "21bf5a3e-44e3-4340-f132-8876c17946fd"
      },
      "source": [
        "# Example 1 - working\n",
        "t = torch.randn(3, 2)\n",
        "print('Input Tensor ==> \\n',t)\n",
        "\n",
        "t1 = torch.randn(3,2)\n",
        "print('\\nFirst Tensor ==> \\n',t1)\n",
        "\n",
        "t2 = torch.randn(3,2)\n",
        "print('\\nSecond Tensor ==> \\n',t2)\n",
        "\n",
        "result=torch.addcmul(t,t1,t2,value=10)\n",
        "print('\\nResultant Tensor ==> \\n',result)"
      ],
      "execution_count": 88,
      "outputs": [
        {
          "output_type": "stream",
          "text": [
            "Input Tensor ==> \n",
            " tensor([[-0.9881, -0.1219],\n",
            "        [ 1.1055, -0.6201],\n",
            "        [-1.5837,  0.9890]])\n",
            "\n",
            "First Tensor ==> \n",
            " tensor([[-0.6789, -1.7465],\n",
            "        [ 0.8081,  1.4946],\n",
            "        [-0.2175, -0.9214]])\n",
            "\n",
            "Second Tensor ==> \n",
            " tensor([[ 0.1365,  0.0705],\n",
            "        [ 0.8872, -1.0354],\n",
            "        [ 0.8538, -0.5540]])\n",
            "\n",
            "Resultant Tensor ==> \n",
            " tensor([[ -1.9147,  -1.3540],\n",
            "        [  8.2752, -16.0953],\n",
            "        [ -3.4407,   6.0937]])\n"
          ],
          "name": "stdout"
        }
      ]
    },
    {
      "cell_type": "markdown",
      "metadata": {
        "id": "PdpbMufvwUDG"
      },
      "source": [
        "The above example initialzes input tensor and other two tensors which are supplied as arguments to torch.addcmul() function, also a constant value of 10 is provided which is contributing to the above result."
      ]
    },
    {
      "cell_type": "code",
      "metadata": {
        "colab": {
          "base_uri": "https://localhost:8080/"
        },
        "id": "fC2OHl7mwUDG",
        "outputId": "f1217858-de74-432f-8600-0e93df1df261"
      },
      "source": [
        "# Example 2 - working\n",
        "t = torch.randn(1, 2)\n",
        "print('Input Tensor ==> \\n',t)\n",
        "\n",
        "t1 = torch.randn(3,2)\n",
        "print('\\nFirst Tensor ==> \\n',t1)\n",
        "\n",
        "t2 = torch.randn(3,1)\n",
        "print('\\nSecond Tensor ==> \\n',t2)\n",
        "\n",
        "result=torch.addcmul(t,t1,t2,value=11)\n",
        "print('\\nResultant Tensor ==> \\n',result)"
      ],
      "execution_count": 91,
      "outputs": [
        {
          "output_type": "stream",
          "text": [
            "Input Tensor ==> \n",
            " tensor([[0.4832, 1.6053]])\n",
            "\n",
            "First Tensor ==> \n",
            " tensor([[ 0.7445, -1.1826],\n",
            "        [ 0.0850, -1.8269],\n",
            "        [ 0.0704, -0.1180]])\n",
            "\n",
            "Second Tensor ==> \n",
            " tensor([[ 1.5051],\n",
            "        [-1.4491],\n",
            "        [ 0.6629]])\n",
            "\n",
            "Resultant Tensor ==> \n",
            " tensor([[ 12.8103, -17.9750],\n",
            "        [ -0.8711,  30.7267],\n",
            "        [  0.9967,   0.7448]])\n"
          ],
          "name": "stdout"
        }
      ]
    },
    {
      "cell_type": "markdown",
      "metadata": {
        "id": "ppoOUmwRwUDG"
      },
      "source": [
        "The above example builts on top of previous example were we have changed the dimentions of different tensors and then add addcmul operation.\n",
        "\n",
        "The point here to be noted is no of columns should be same in input and other tensors."
      ]
    },
    {
      "cell_type": "code",
      "metadata": {
        "colab": {
          "base_uri": "https://localhost:8080/",
          "height": 426
        },
        "id": "zRp46HjkwUDG",
        "outputId": "fe0288ed-9b2e-4714-d099-bab163c71a01"
      },
      "source": [
        "# Example 3 - breaking (to illustrate when it breaks)\n",
        "# Example 2 - working\n",
        "t = torch.randn(1, 3)\n",
        "print('Input Tensor ==> \\n',t)\n",
        "\n",
        "t1 = torch.randn(3,2)\n",
        "print('\\nFirst Tensor ==> \\n',t1)\n",
        "\n",
        "t2 = torch.randn(3,1)\n",
        "print('\\nSecond Tensor ==> \\n',t2)\n",
        "\n",
        "result=torch.addcmul(t,t1,t2,value=11)\n",
        "print('\\nResultant Tensor ==> \\n',result)"
      ],
      "execution_count": 92,
      "outputs": [
        {
          "output_type": "stream",
          "text": [
            "Input Tensor ==> \n",
            " tensor([[-1.7170, -1.0950,  0.1610]])\n",
            "\n",
            "First Tensor ==> \n",
            " tensor([[-0.8944,  1.2394],\n",
            "        [-1.6409, -1.3244],\n",
            "        [-1.9642, -0.2736]])\n",
            "\n",
            "Second Tensor ==> \n",
            " tensor([[ 0.8995],\n",
            "        [ 0.4175],\n",
            "        [-0.0844]])\n"
          ],
          "name": "stdout"
        },
        {
          "output_type": "error",
          "ename": "RuntimeError",
          "evalue": "ignored",
          "traceback": [
            "\u001b[0;31m---------------------------------------------------------------------------\u001b[0m",
            "\u001b[0;31mRuntimeError\u001b[0m                              Traceback (most recent call last)",
            "\u001b[0;32m<ipython-input-92-c040c60397d3>\u001b[0m in \u001b[0;36m<module>\u001b[0;34m()\u001b[0m\n\u001b[1;32m     10\u001b[0m \u001b[0mprint\u001b[0m\u001b[0;34m(\u001b[0m\u001b[0;34m'\\nSecond Tensor ==> \\n'\u001b[0m\u001b[0;34m,\u001b[0m\u001b[0mt2\u001b[0m\u001b[0;34m)\u001b[0m\u001b[0;34m\u001b[0m\u001b[0;34m\u001b[0m\u001b[0m\n\u001b[1;32m     11\u001b[0m \u001b[0;34m\u001b[0m\u001b[0m\n\u001b[0;32m---> 12\u001b[0;31m \u001b[0mresult\u001b[0m\u001b[0;34m=\u001b[0m\u001b[0mtorch\u001b[0m\u001b[0;34m.\u001b[0m\u001b[0maddcmul\u001b[0m\u001b[0;34m(\u001b[0m\u001b[0mt\u001b[0m\u001b[0;34m,\u001b[0m\u001b[0mt1\u001b[0m\u001b[0;34m,\u001b[0m\u001b[0mt2\u001b[0m\u001b[0;34m,\u001b[0m\u001b[0mvalue\u001b[0m\u001b[0;34m=\u001b[0m\u001b[0;36m11\u001b[0m\u001b[0;34m)\u001b[0m\u001b[0;34m\u001b[0m\u001b[0;34m\u001b[0m\u001b[0m\n\u001b[0m\u001b[1;32m     13\u001b[0m \u001b[0mprint\u001b[0m\u001b[0;34m(\u001b[0m\u001b[0;34m'\\nResultant Tensor ==> \\n'\u001b[0m\u001b[0;34m,\u001b[0m\u001b[0mresult\u001b[0m\u001b[0;34m)\u001b[0m\u001b[0;34m\u001b[0m\u001b[0;34m\u001b[0m\u001b[0m\n",
            "\u001b[0;31mRuntimeError\u001b[0m: The size of tensor a (3) must match the size of tensor b (2) at non-singleton dimension 1"
          ]
        }
      ]
    },
    {
      "cell_type": "markdown",
      "metadata": {
        "id": "8vhNyEcbwUDG"
      },
      "source": [
        "The above example illustrate the point where the above example throws an exception as the dimension of tensors do not align with each other."
      ]
    },
    {
      "cell_type": "markdown",
      "metadata": {
        "id": "erBiGG3DwUDG"
      },
      "source": [
        "tensor.addcmul function can be quite helpful during forward propogation of deep neural networks."
      ]
    },
    {
      "cell_type": "code",
      "metadata": {
        "colab": {
          "base_uri": "https://localhost:8080/",
          "height": 105
        },
        "id": "GHK8FgFYwUDG",
        "outputId": "e09ed21e-8c7a-4bd3-8681-cd98f647f9a9"
      },
      "source": [
        "jovian.commit(project='01-tensor-operations')"
      ],
      "execution_count": 93,
      "outputs": [
        {
          "output_type": "stream",
          "text": [
            "[jovian] Detected Colab notebook...\u001b[0m\n",
            "[jovian] Uploading colab notebook to Jovian...\u001b[0m\n",
            "[jovian] Capturing environment..\u001b[0m\n",
            "[jovian] Committed successfully! https://jovian.ai/rahulgarg95/01-tensor-operations\u001b[0m\n"
          ],
          "name": "stdout"
        },
        {
          "output_type": "execute_result",
          "data": {
            "application/vnd.google.colaboratory.intrinsic+json": {
              "type": "string"
            },
            "text/plain": [
              "'https://jovian.ai/rahulgarg95/01-tensor-operations'"
            ]
          },
          "metadata": {
            "tags": []
          },
          "execution_count": 93
        }
      ]
    },
    {
      "cell_type": "markdown",
      "metadata": {
        "id": "z_qB09y-wUDG"
      },
      "source": [
        "## torch.where()\n",
        "\n",
        "torch.where() function is used to apply a condition statement on input tensor and populate values to the same accordingly.\n",
        "\n",
        "torch.where(condition,x,y) => If condition is met, value of x is replaced otherwise value of y is replaced."
      ]
    },
    {
      "cell_type": "code",
      "metadata": {
        "colab": {
          "base_uri": "https://localhost:8080/"
        },
        "id": "vodJVFWMwUDG",
        "outputId": "e557ff5f-5f2a-408a-c3d0-ea7f2db308c8"
      },
      "source": [
        "# Example 1 - working\n",
        "t1 = torch.randn(3, 2)\n",
        "print('Tensor1 ==> \\n',t1)\n",
        "\n",
        "t2 = torch.ones(3, 2)\n",
        "print('\\nTensor2 ==> \\n',t2)\n",
        "\n",
        "print('\\nFinal Tensor ==> \\n',torch.where(t1 > 0, t1, t2))"
      ],
      "execution_count": 98,
      "outputs": [
        {
          "output_type": "stream",
          "text": [
            "Tensor1 ==> \n",
            " tensor([[ 1.5462,  0.1570],\n",
            "        [ 0.0845, -0.5417],\n",
            "        [ 0.4771, -0.2600]])\n",
            "\n",
            "Tensor2 ==> \n",
            " tensor([[1., 1.],\n",
            "        [1., 1.],\n",
            "        [1., 1.]])\n",
            "\n",
            "Final Tensor ==> \n",
            " tensor([[1.5462, 0.1570],\n",
            "        [0.0845, 1.0000],\n",
            "        [0.4771, 1.0000]])\n"
          ],
          "name": "stdout"
        }
      ]
    },
    {
      "cell_type": "markdown",
      "metadata": {
        "id": "wdbcA4jSwUDG"
      },
      "source": [
        "The above example illustrates the use of torch.where function where all the elements in t1 having value greater than 0 is replaces by the one's in t2."
      ]
    },
    {
      "cell_type": "code",
      "metadata": {
        "colab": {
          "base_uri": "https://localhost:8080/"
        },
        "id": "GduD_FojwUDG",
        "outputId": "52db04ce-bd3c-49cd-888f-c8de3d5b282a"
      },
      "source": [
        "# Example 2 - working\n",
        "t1 = torch.randn((3, 2),dtype=torch.double)\n",
        "print('Tensor1 ==> \\n',t1)\n",
        "\n",
        "t2 = torch.ones(3, 2)\n",
        "print('\\nTensor2 ==> \\n',t2)\n",
        "\n",
        "print('\\nFinal Tensor ==> \\n',torch.where(t1 > 0, t1, 100.))"
      ],
      "execution_count": 105,
      "outputs": [
        {
          "output_type": "stream",
          "text": [
            "Tensor1 ==> \n",
            " tensor([[ 0.7894, -0.5913],\n",
            "        [ 0.2329,  0.0363],\n",
            "        [-0.1116,  0.8967]], dtype=torch.float64)\n",
            "\n",
            "Tensor2 ==> \n",
            " tensor([[1., 1.],\n",
            "        [1., 1.],\n",
            "        [1., 1.]])\n",
            "\n",
            "Final Tensor ==> \n",
            " tensor([[7.8940e-01, 1.0000e+02],\n",
            "        [2.3292e-01, 3.6292e-02],\n",
            "        [1.0000e+02, 8.9668e-01]], dtype=torch.float64)\n"
          ],
          "name": "stdout"
        }
      ]
    },
    {
      "cell_type": "markdown",
      "metadata": {
        "id": "r7HNA-XJwUDG"
      },
      "source": [
        "The above example illustrates the use of scalar value instead of another tensor."
      ]
    },
    {
      "cell_type": "code",
      "metadata": {
        "colab": {
          "base_uri": "https://localhost:8080/",
          "height": 357
        },
        "id": "3b4HgjW5wUDG",
        "outputId": "173704b3-d385-49a5-b718-7d2f2a9e0d24"
      },
      "source": [
        "# Example 3 - breaking (to illustrate when it breaks)\n",
        "# Example 2 - working\n",
        "t1 = torch.randn((3, 2))\n",
        "print('Tensor1 ==> \\n',t1)\n",
        "\n",
        "t2 = torch.ones(3, 2)\n",
        "print('\\nTensor2 ==> \\n',t2)\n",
        "\n",
        "print('\\nFinal Tensor ==> \\n',torch.where(t1 > 0, t1, 100.))"
      ],
      "execution_count": 106,
      "outputs": [
        {
          "output_type": "stream",
          "text": [
            "Tensor1 ==> \n",
            " tensor([[ 2.4679,  0.7438],\n",
            "        [-0.7768,  0.3895],\n",
            "        [ 0.1333, -1.5188]])\n",
            "\n",
            "Tensor2 ==> \n",
            " tensor([[1., 1.],\n",
            "        [1., 1.],\n",
            "        [1., 1.]])\n"
          ],
          "name": "stdout"
        },
        {
          "output_type": "error",
          "ename": "RuntimeError",
          "evalue": "ignored",
          "traceback": [
            "\u001b[0;31m---------------------------------------------------------------------------\u001b[0m",
            "\u001b[0;31mRuntimeError\u001b[0m                              Traceback (most recent call last)",
            "\u001b[0;32m<ipython-input-106-4fcb11938699>\u001b[0m in \u001b[0;36m<module>\u001b[0;34m()\u001b[0m\n\u001b[1;32m      7\u001b[0m \u001b[0mprint\u001b[0m\u001b[0;34m(\u001b[0m\u001b[0;34m'\\nTensor2 ==> \\n'\u001b[0m\u001b[0;34m,\u001b[0m\u001b[0mt2\u001b[0m\u001b[0;34m)\u001b[0m\u001b[0;34m\u001b[0m\u001b[0;34m\u001b[0m\u001b[0m\n\u001b[1;32m      8\u001b[0m \u001b[0;34m\u001b[0m\u001b[0m\n\u001b[0;32m----> 9\u001b[0;31m \u001b[0mprint\u001b[0m\u001b[0;34m(\u001b[0m\u001b[0;34m'\\nFinal Tensor ==> \\n'\u001b[0m\u001b[0;34m,\u001b[0m\u001b[0mtorch\u001b[0m\u001b[0;34m.\u001b[0m\u001b[0mwhere\u001b[0m\u001b[0;34m(\u001b[0m\u001b[0mt1\u001b[0m \u001b[0;34m>\u001b[0m \u001b[0;36m0\u001b[0m\u001b[0;34m,\u001b[0m \u001b[0mt1\u001b[0m\u001b[0;34m,\u001b[0m \u001b[0;36m100.\u001b[0m\u001b[0;34m)\u001b[0m\u001b[0;34m)\u001b[0m\u001b[0;34m\u001b[0m\u001b[0;34m\u001b[0m\u001b[0m\n\u001b[0m",
            "\u001b[0;31mRuntimeError\u001b[0m: expected scalar type float but found double"
          ]
        }
      ]
    },
    {
      "cell_type": "markdown",
      "metadata": {
        "id": "9zcUW8NtwUDG"
      },
      "source": [
        "The above examples illustrates the point where torch.where function can throw an error if datatypes do not where. Better to explicity define dtype where initializing the tensor."
      ]
    },
    {
      "cell_type": "markdown",
      "metadata": {
        "id": "N6Q6r46VwUDG"
      },
      "source": [
        "The above function can be used to perform multiple operations and apply user defined conditions and create a customised tensor accordingly."
      ]
    },
    {
      "cell_type": "code",
      "metadata": {
        "colab": {
          "base_uri": "https://localhost:8080/",
          "height": 105
        },
        "id": "Q5JFM3JkwUDG",
        "outputId": "37a4ee30-03ed-4a99-9c39-a368036d61ae"
      },
      "source": [
        "jovian.commit(project='01-tensor-operations')"
      ],
      "execution_count": 107,
      "outputs": [
        {
          "output_type": "stream",
          "text": [
            "[jovian] Detected Colab notebook...\u001b[0m\n",
            "[jovian] Uploading colab notebook to Jovian...\u001b[0m\n",
            "[jovian] Capturing environment..\u001b[0m\n",
            "[jovian] Committed successfully! https://jovian.ai/rahulgarg95/01-tensor-operations\u001b[0m\n"
          ],
          "name": "stdout"
        },
        {
          "output_type": "execute_result",
          "data": {
            "application/vnd.google.colaboratory.intrinsic+json": {
              "type": "string"
            },
            "text/plain": [
              "'https://jovian.ai/rahulgarg95/01-tensor-operations'"
            ]
          },
          "metadata": {
            "tags": []
          },
          "execution_count": 107
        }
      ]
    },
    {
      "cell_type": "markdown",
      "metadata": {
        "id": "qukL44NOwUDH"
      },
      "source": [
        "## Conclusion\n",
        "\n",
        "We have covered 5 different basic functions of pytorch which can help you to get started in pytorch and apply basic idea of how this framework works.\n",
        "\n",
        "Please check out below reference links to explore above functions or find more pytorch functions to play wth them."
      ]
    },
    {
      "cell_type": "markdown",
      "metadata": {
        "id": "YRajv9nNwUDH"
      },
      "source": [
        "## Reference Links\n",
        "Provide links to your references and other interesting articles about tensors\n",
        "* Official documentation for tensor operations: https://pytorch.org/docs/stable/torch.html\n",
        "* https://www.kite.com/python/docs/*\n",
        "* http://geeksforgeeks.org/"
      ]
    },
    {
      "cell_type": "code",
      "metadata": {
        "colab": {
          "base_uri": "https://localhost:8080/",
          "height": 105
        },
        "id": "4ZC4RiHYwUDH",
        "outputId": "3c450313-9ef1-4c17-95dc-6a324d2a2cb2"
      },
      "source": [
        "jovian.commit(project='01-tensor-operations')"
      ],
      "execution_count": 108,
      "outputs": [
        {
          "output_type": "stream",
          "text": [
            "[jovian] Detected Colab notebook...\u001b[0m\n",
            "[jovian] Uploading colab notebook to Jovian...\u001b[0m\n",
            "[jovian] Capturing environment..\u001b[0m\n",
            "[jovian] Committed successfully! https://jovian.ai/rahulgarg95/01-tensor-operations\u001b[0m\n"
          ],
          "name": "stdout"
        },
        {
          "output_type": "execute_result",
          "data": {
            "application/vnd.google.colaboratory.intrinsic+json": {
              "type": "string"
            },
            "text/plain": [
              "'https://jovian.ai/rahulgarg95/01-tensor-operations'"
            ]
          },
          "metadata": {
            "tags": []
          },
          "execution_count": 108
        }
      ]
    },
    {
      "cell_type": "code",
      "metadata": {
        "id": "OjJOJhhAwUDH"
      },
      "source": [
        ""
      ],
      "execution_count": null,
      "outputs": []
    }
  ]
}